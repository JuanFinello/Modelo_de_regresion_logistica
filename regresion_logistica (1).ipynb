{
 "cells": [
  {
   "cell_type": "markdown",
   "metadata": {},
   "source": [
    "# Modelo de REGRESION LOGISTICA para predicción de comportamiento en marketing digital"
   ]
  },
  {
   "cell_type": "markdown",
   "metadata": {},
   "source": [
    "El objetivo del siguiente proyecto es clasificar aquellos clientes del negocio que sean posibles candidatos a comprar un nuevo producto. Existen dos variables posible a predecir; una es la apertura de emails de publicidad por parte de los clientes y la otra es si hacen click en el enlace de dicho mail."
   ]
  },
  {
   "cell_type": "code",
   "execution_count": 73,
   "metadata": {
    "colab": {
     "base_uri": "https://localhost:8080/",
     "height": 71
    },
    "colab_type": "code",
    "executionInfo": {
     "elapsed": 1554,
     "status": "ok",
     "timestamp": 1593785640980,
     "user": {
      "displayName": "Juan Finello",
      "photoUrl": "https://lh3.googleusercontent.com/a-/AOh14GhkEe8FcNn5ElS7591yV3nI_9MC8Yuo4NSdmGfowQ=s64",
      "userId": "01899113154645049238"
     },
     "user_tz": 180
    },
    "id": "uwX0PXyHBFUY",
    "outputId": "819f7f79-2915-41f2-f03d-1d262c892201"
   },
   "outputs": [],
   "source": [
    "\n",
    "# Importamos librerias\n",
    "\n",
    "import xgboost as xgb\n",
    "from sklearn.metrics import classification_report, accuracy_score, roc_curve, auc, roc_auc_score, plot_roc_curve\n",
    "\n",
    "import pandas as pd\n",
    "import numpy as np\n",
    "import seaborn as sns\n",
    "import matplotlib.pyplot as plt\n",
    "\n",
    "\n",
    "from datetime import datetime\n",
    "from sklearn.model_selection import train_test_split\n",
    "from sklearn.model_selection import cross_val_score,cross_validate\n",
    "from sklearn.model_selection import GridSearchCV\n",
    "from sklearn.tree import DecisionTreeClassifier\n",
    "from sklearn.ensemble import RandomForestClassifier\n",
    "from sklearn.metrics import accuracy_score, precision_score, recall_score, f1_score, confusion_matrix, classification_report"
   ]
  },
  {
   "cell_type": "markdown",
   "metadata": {
    "colab_type": "text",
    "id": "3SDIGSDvBFUW"
   },
   "source": [
    "# Limpieza de datos "
   ]
  },
  {
   "cell_type": "code",
   "execution_count": 74,
   "metadata": {
    "colab": {
     "base_uri": "https://localhost:8080/",
     "height": 391
    },
    "colab_type": "code",
    "executionInfo": {
     "elapsed": 2981,
     "status": "error",
     "timestamp": 1593785642416,
     "user": {
      "displayName": "Juan Finello",
      "photoUrl": "https://lh3.googleusercontent.com/a-/AOh14GhkEe8FcNn5ElS7591yV3nI_9MC8Yuo4NSdmGfowQ=s64",
      "userId": "01899113154645049238"
     },
     "user_tz": 180
    },
    "id": "VgIRzyGgBFUf",
    "outputId": "714dbead-264b-498f-f2a8-3a0b7f624225"
   },
   "outputs": [],
   "source": [
    "data= pd.read_csv(('DatasetModulo2.csv'))\n",
    "pd.set_option('display.max_columns', 50)"
   ]
  },
  {
   "cell_type": "markdown",
   "metadata": {
    "colab_type": "text",
    "id": "tNs_i-CxBFUo"
   },
   "source": [
    "### Columnas que no aportan y columnas duplicadas"
   ]
  },
  {
   "cell_type": "code",
   "execution_count": 75,
   "metadata": {
    "colab": {},
    "colab_type": "code",
    "executionInfo": {
     "elapsed": 2569,
     "status": "aborted",
     "timestamp": 1593785642032,
     "user": {
      "displayName": "Juan Finello",
      "photoUrl": "https://lh3.googleusercontent.com/a-/AOh14GhkEe8FcNn5ElS7591yV3nI_9MC8Yuo4NSdmGfowQ=s64",
      "userId": "01899113154645049238"
     },
     "user_tz": 180
    },
    "id": "frlkSRRmBFUp"
   },
   "outputs": [],
   "source": [
    "# Eliminamos las columnas que tienen el mismo valor en todas sus filas \n",
    "\n",
    "columnas_fulla_eliminar = [x for x in data.columns if data[x].nunique()==1]"
   ]
  },
  {
   "cell_type": "code",
   "execution_count": 76,
   "metadata": {
    "colab": {},
    "colab_type": "code",
    "executionInfo": {
     "elapsed": 2545,
     "status": "aborted",
     "timestamp": 1593785642034,
     "user": {
      "displayName": "Juan Finello",
      "photoUrl": "https://lh3.googleusercontent.com/a-/AOh14GhkEe8FcNn5ElS7591yV3nI_9MC8Yuo4NSdmGfowQ=s64",
      "userId": "01899113154645049238"
     },
     "user_tz": 180
    },
    "id": "DFiRVx8rBFUx"
   },
   "outputs": [],
   "source": [
    "data.drop(columns=columnas_fulla_eliminar, inplace=True)"
   ]
  },
  {
   "cell_type": "code",
   "execution_count": 77,
   "metadata": {
    "colab": {},
    "colab_type": "code",
    "executionInfo": {
     "elapsed": 2526,
     "status": "aborted",
     "timestamp": 1593785642035,
     "user": {
      "displayName": "Juan Finello",
      "photoUrl": "https://lh3.googleusercontent.com/a-/AOh14GhkEe8FcNn5ElS7591yV3nI_9MC8Yuo4NSdmGfowQ=s64",
      "userId": "01899113154645049238"
     },
     "user_tz": 180
    },
    "id": "q3UxCeXOBFU0"
   },
   "outputs": [
    {
     "data": {
      "text/plain": [
       "True    494887\n",
       "dtype: int64"
      ]
     },
     "execution_count": 77,
     "metadata": {},
     "output_type": "execute_result"
    }
   ],
   "source": [
    "# Verificamos que la columna de PERIODO_CLI y PERIODO, tienen todos sus valores iguales\n",
    "\n",
    "(data.periodo_cli==data.periodo).value_counts()"
   ]
  },
  {
   "cell_type": "code",
   "execution_count": 78,
   "metadata": {
    "colab": {},
    "colab_type": "code",
    "executionInfo": {
     "elapsed": 2522,
     "status": "aborted",
     "timestamp": 1593785642035,
     "user": {
      "displayName": "Juan Finello",
      "photoUrl": "https://lh3.googleusercontent.com/a-/AOh14GhkEe8FcNn5ElS7591yV3nI_9MC8Yuo4NSdmGfowQ=s64",
      "userId": "01899113154645049238"
     },
     "user_tz": 180
    },
    "id": "am5QNPfDBFU8"
   },
   "outputs": [],
   "source": [
    "#Eliminamos la coumna PERIODO porque son iguales\n",
    "data = data.drop(['periodo'],axis=1)"
   ]
  },
  {
   "cell_type": "markdown",
   "metadata": {
    "colab_type": "text",
    "id": "my8FqLmBBFVA"
   },
   "source": [
    "### Analisis las variables posibles a usar como target"
   ]
  },
  {
   "cell_type": "code",
   "execution_count": 79,
   "metadata": {},
   "outputs": [
    {
     "data": {
      "text/plain": [
       "[Text(0.5, 1.0, 'Frecuencia de la variable Traget: Hacer click en el link')]"
      ]
     },
     "execution_count": 79,
     "metadata": {},
     "output_type": "execute_result"
    },
    {
     "data": {
      "image/png": "[encoded data removed]",
      "text/plain": [
       "<Figure size 432x288 with 1 Axes>"
      ]
     },
     "metadata": {
      "needs_background": "light"
     },
     "output_type": "display_data"
    }
   ],
   "source": [
    "### Los que hicieron click en el link dentro del email\n",
    "\n",
    "sns.countplot(x='target', data=data).set(title='Frecuencia de la variable Traget: Hacer click en el link')"
   ]
  },
  {
   "cell_type": "code",
   "execution_count": 80,
   "metadata": {
    "colab": {},
    "colab_type": "code",
    "executionInfo": {
     "elapsed": 2506,
     "status": "aborted",
     "timestamp": 1593785642036,
     "user": {
      "displayName": "Juan Finello",
      "photoUrl": "https://lh3.googleusercontent.com/a-/AOh14GhkEe8FcNn5ElS7591yV3nI_9MC8Yuo4NSdmGfowQ=s64",
      "userId": "01899113154645049238"
     },
     "user_tz": 180
    },
    "id": "h5HcVMj6BFVB"
   },
   "outputs": [
    {
     "data": {
      "text/plain": [
       "0.0000   0.9938\n",
       "1.0000   0.0062\n",
       "Name: target, dtype: float64"
      ]
     },
     "execution_count": 80,
     "metadata": {},
     "output_type": "execute_result"
    }
   ],
   "source": [
    "\n",
    "data['target'].value_counts(normalize=True)"
   ]
  },
  {
   "cell_type": "code",
   "execution_count": 81,
   "metadata": {},
   "outputs": [
    {
     "data": {
      "text/plain": [
       "[Text(0.5, 1.0, 'Frecuencia de la variable Traget2: Entrar al email')]"
      ]
     },
     "execution_count": 81,
     "metadata": {},
     "output_type": "execute_result"
    },
    {
     "data": {
      "image/png": "[encoded data removed]",
      "text/plain": [
       "<Figure size 432x288 with 1 Axes>"
      ]
     },
     "metadata": {
      "needs_background": "light"
     },
     "output_type": "display_data"
    }
   ],
   "source": [
    "# Los que abrieron el email\n",
    "sns.countplot(x='target2', data=data).set(title='Frecuencia de la variable Traget2: Entrar al email')"
   ]
  },
  {
   "cell_type": "code",
   "execution_count": 82,
   "metadata": {},
   "outputs": [
    {
     "data": {
      "text/plain": [
       "0.0000   0.6437\n",
       "1.0000   0.3563\n",
       "Name: target2, dtype: float64"
      ]
     },
     "execution_count": 82,
     "metadata": {},
     "output_type": "execute_result"
    }
   ],
   "source": [
    "data['target2'].value_counts(normalize=True)"
   ]
  },
  {
   "cell_type": "code",
   "execution_count": 83,
   "metadata": {
    "colab": {},
    "colab_type": "code",
    "executionInfo": {
     "elapsed": 2484,
     "status": "aborted",
     "timestamp": 1593785642036,
     "user": {
      "displayName": "Juan Finello",
      "photoUrl": "https://lh3.googleusercontent.com/a-/AOh14GhkEe8FcNn5ElS7591yV3nI_9MC8Yuo4NSdmGfowQ=s64",
      "userId": "01899113154645049238"
     },
     "user_tz": 180
    },
    "id": "_Itpe6AzBFVE"
   },
   "outputs": [],
   "source": [
    "# Se elimina la columna target ya que tiene muy pocas ocurrencias y por ende esta muy desbalanceada,\n",
    "# no sirve para la construccion de un modelo predictivo.\n",
    "\n",
    "# Seleccionamos Target2: Vamos a predecir que clientes son mas propensos a abrir los emails de publicidad \n",
    "\n",
    "data.drop(columns='target',inplace=True)"
   ]
  },
  {
   "cell_type": "markdown",
   "metadata": {
    "colab_type": "text",
    "id": "ETPiEw1BBFVM"
   },
   "source": [
    "### Filas duplicadas\n"
   ]
  },
  {
   "cell_type": "code",
   "execution_count": 84,
   "metadata": {
    "colab": {},
    "colab_type": "code",
    "executionInfo": {
     "elapsed": 2458,
     "status": "aborted",
     "timestamp": 1593785642037,
     "user": {
      "displayName": "Juan Finello",
      "photoUrl": "https://lh3.googleusercontent.com/a-/AOh14GhkEe8FcNn5ElS7591yV3nI_9MC8Yuo4NSdmGfowQ=s64",
      "userId": "01899113154645049238"
     },
     "user_tz": 180
    },
    "id": "VxymTaDXBFVO"
   },
   "outputs": [
    {
     "data": {
      "text/plain": [
       "True"
      ]
     },
     "execution_count": 84,
     "metadata": {},
     "output_type": "execute_result"
    }
   ],
   "source": [
    "data.duplicated().any()"
   ]
  },
  {
   "cell_type": "code",
   "execution_count": 85,
   "metadata": {
    "colab": {},
    "colab_type": "code",
    "executionInfo": {
     "elapsed": 2455,
     "status": "aborted",
     "timestamp": 1593785642038,
     "user": {
      "displayName": "Juan Finello",
      "photoUrl": "https://lh3.googleusercontent.com/a-/AOh14GhkEe8FcNn5ElS7591yV3nI_9MC8Yuo4NSdmGfowQ=s64",
      "userId": "01899113154645049238"
     },
     "user_tz": 180
    },
    "id": "lRhYAkgXBFVS"
   },
   "outputs": [],
   "source": [
    "# Eliminamos las filas duplicadas\n",
    "data.drop_duplicates(inplace=True)"
   ]
  },
  {
   "cell_type": "code",
   "execution_count": 86,
   "metadata": {
    "colab": {},
    "colab_type": "code",
    "executionInfo": {
     "elapsed": 2443,
     "status": "aborted",
     "timestamp": 1593785642038,
     "user": {
      "displayName": "Juan Finello",
      "photoUrl": "https://lh3.googleusercontent.com/a-/AOh14GhkEe8FcNn5ElS7591yV3nI_9MC8Yuo4NSdmGfowQ=s64",
      "userId": "01899113154645049238"
     },
     "user_tz": 180
    },
    "id": "VXRTUavwBFVV"
   },
   "outputs": [
    {
     "data": {
      "text/plain": [
       "(485635, 38)"
      ]
     },
     "execution_count": 86,
     "metadata": {},
     "output_type": "execute_result"
    }
   ],
   "source": [
    "data.shape"
   ]
  },
  {
   "cell_type": "markdown",
   "metadata": {
    "colab_type": "text",
    "id": "_WlLTsWhBFVY"
   },
   "source": [
    "### Valores nulos"
   ]
  },
  {
   "cell_type": "code",
   "execution_count": 87,
   "metadata": {
    "colab": {},
    "colab_type": "code",
    "executionInfo": {
     "elapsed": 2431,
     "status": "aborted",
     "timestamp": 1593785642039,
     "user": {
      "displayName": "Juan Finello",
      "photoUrl": "https://lh3.googleusercontent.com/a-/AOh14GhkEe8FcNn5ElS7591yV3nI_9MC8Yuo4NSdmGfowQ=s64",
      "userId": "01899113154645049238"
     },
     "user_tz": 180
    },
    "id": "eWZYEMQWBFVZ"
   },
   "outputs": [
    {
     "data": {
      "text/plain": [
       "<matplotlib.axes._subplots.AxesSubplot at 0x7f04bd127110>"
      ]
     },
     "execution_count": 87,
     "metadata": {},
     "output_type": "execute_result"
    },
    {
     "data": {
      "image/png": "[encoded data removed]",
      "text/plain": [
       "<Figure size 432x288 with 2 Axes>"
      ]
     },
     "metadata": {
      "needs_background": "light"
     },
     "output_type": "display_data"
    }
   ],
   "source": [
    "sns.heatmap(data[data.columns].isnull())"
   ]
  },
  {
   "cell_type": "code",
   "execution_count": 88,
   "metadata": {
    "colab": {},
    "colab_type": "code",
    "executionInfo": {
     "elapsed": 2394,
     "status": "aborted",
     "timestamp": 1593785642041,
     "user": {
      "displayName": "Juan Finello",
      "photoUrl": "https://lh3.googleusercontent.com/a-/AOh14GhkEe8FcNn5ElS7591yV3nI_9MC8Yuo4NSdmGfowQ=s64",
      "userId": "01899113154645049238"
     },
     "user_tz": 180
    },
    "id": "oDbB6XzeBFVk",
    "scrolled": true
   },
   "outputs": [
    {
     "data": {
      "text/plain": [
       "FechaSaldos                          0\n",
       "periodo_cli                          0\n",
       "cant_productos                       0\n",
       "cant_PF                              0\n",
       "cant_TC                              0\n",
       "cant_PP                              0\n",
       "FechaUltMovCA                    26071\n",
       "cant_seguros                         0\n",
       "importe_consumos                     0\n",
       "Edad                                 0\n",
       "Sexo                                 0\n",
       "SaldoPromedioCAPesos                 0\n",
       "SaldoPromedioCADolares               0\n",
       "SaldoPromedioCCAcreedor              0\n",
       "TotalConsumoTD                       0\n",
       "CategoriaProducto                    0\n",
       "FechaVinculacion                 77386\n",
       "cuotas_faltantes_1                   0\n",
       "cant_PF_ant_1                        0\n",
       "cant_TC_ant_1                        0\n",
       "cant_PP_ant_1                        0\n",
       "SaldoPromedioCAPesos_ant_1         692\n",
       "SaldoPromedioCADolares_ant_1       692\n",
       "SaldoPromedioCCAcreedor_ant_1      692\n",
       "importe_consumos_ant_1               0\n",
       "TotalConsumoTD_ant_1               692\n",
       "cuotas_faltantes                     0\n",
       "cant_PF_ant_2                        0\n",
       "cant_TC_ant_2                        0\n",
       "cant_PP_ant_2                        0\n",
       "SaldoPromedioCAPesos_ant_2        2780\n",
       "SaldoPromedioCADolares_ant_2      2780\n",
       "SaldoPromedioCCAcreedor_ant_2     2780\n",
       "importe_consumos_ant_2               0\n",
       "TotalConsumoTD_ant_2              2780\n",
       "cuotas_faltantes_2                   0\n",
       "score_deuda                      84754\n",
       "target2                              0\n",
       "dtype: int64"
      ]
     },
     "execution_count": 88,
     "metadata": {},
     "output_type": "execute_result"
    }
   ],
   "source": [
    "data.isnull().sum()"
   ]
  },
  {
   "cell_type": "code",
   "execution_count": 89,
   "metadata": {
    "colab": {},
    "colab_type": "code",
    "executionInfo": {
     "elapsed": 2361,
     "status": "aborted",
     "timestamp": 1593785642042,
     "user": {
      "displayName": "Juan Finello",
      "photoUrl": "https://lh3.googleusercontent.com/a-/AOh14GhkEe8FcNn5ElS7591yV3nI_9MC8Yuo4NSdmGfowQ=s64",
      "userId": "01899113154645049238"
     },
     "user_tz": 180
    },
    "id": "wxDXh2WsBFVq"
   },
   "outputs": [
    {
     "name": "stdout",
     "output_type": "stream",
     "text": [
      "FechaUltMovCA 26071\n",
      "FechaVinculacion 77386\n",
      "SaldoPromedioCAPesos_ant_1 692\n",
      "SaldoPromedioCADolares_ant_1 692\n",
      "SaldoPromedioCCAcreedor_ant_1 692\n",
      "TotalConsumoTD_ant_1 692\n",
      "SaldoPromedioCAPesos_ant_2 2780\n",
      "SaldoPromedioCADolares_ant_2 2780\n",
      "SaldoPromedioCCAcreedor_ant_2 2780\n",
      "TotalConsumoTD_ant_2 2780\n",
      "score_deuda 84754\n"
     ]
    }
   ],
   "source": [
    "# Columnas con valores nulos\n",
    "for col in data.columns: \n",
    "    if data[col].isnull().sum() >0:\n",
    "        print(col,data[col].isnull().sum()) "
   ]
  },
  {
   "cell_type": "markdown",
   "metadata": {
    "colab_type": "text",
    "id": "Odj3KkOnBFVu"
   },
   "source": [
    "#### Corregimos los valores nulos"
   ]
  },
  {
   "cell_type": "code",
   "execution_count": 90,
   "metadata": {},
   "outputs": [
    {
     "name": "stdout",
     "output_type": "stream",
     "text": [
      "['FechaUltMovCA', 'FechaVinculacion', 'SaldoPromedioCAPesos_ant_1', 'SaldoPromedioCADolares_ant_1', 'SaldoPromedioCCAcreedor_ant_1', 'TotalConsumoTD_ant_1', 'SaldoPromedioCAPesos_ant_2', 'SaldoPromedioCADolares_ant_2', 'SaldoPromedioCCAcreedor_ant_2', 'TotalConsumoTD_ant_2', 'score_deuda']\n"
     ]
    }
   ],
   "source": [
    "# Columnas con valores nulos\n",
    "cols = []\n",
    "for col in data.columns: \n",
    "    if data[col].isnull().sum() >0:\n",
    "        cols.append(col)\n",
    "print(cols)\n",
    "\n",
    "for column in data[cols]:\n",
    "    data[column].fillna(data[column].mode()[0], inplace=True)"
   ]
  },
  {
   "cell_type": "code",
   "execution_count": 91,
   "metadata": {},
   "outputs": [
    {
     "data": {
      "text/plain": [
       "<matplotlib.axes._subplots.AxesSubplot at 0x7f04bd03c590>"
      ]
     },
     "execution_count": 91,
     "metadata": {},
     "output_type": "execute_result"
    },
    {
     "data": {
      "image/png": "[encoded data removed]",
      "text/plain": [
       "<Figure size 432x288 with 2 Axes>"
      ]
     },
     "metadata": {
      "needs_background": "light"
     },
     "output_type": "display_data"
    }
   ],
   "source": [
    "sns.heatmap(data[data.columns].isnull())"
   ]
  },
  {
   "cell_type": "code",
   "execution_count": 92,
   "metadata": {
    "colab": {},
    "colab_type": "code",
    "executionInfo": {
     "elapsed": 2249,
     "status": "aborted",
     "timestamp": 1593785642050,
     "user": {
      "displayName": "Juan Finello",
      "photoUrl": "https://lh3.googleusercontent.com/a-/AOh14GhkEe8FcNn5ElS7591yV3nI_9MC8Yuo4NSdmGfowQ=s64",
      "userId": "01899113154645049238"
     },
     "user_tz": 180
    },
    "id": "orxu5cjHBFWm"
   },
   "outputs": [],
   "source": [
    "# corroboramos que no quede ninguna columna con valores nulos\n",
    "for col in data.columns: \n",
    "    if data[col].isnull().sum() >0:\n",
    "        print(col,data[col].isnull().sum()) "
   ]
  },
  {
   "cell_type": "markdown",
   "metadata": {
    "colab_type": "text",
    "id": "gw_FJ7sFBFWp"
   },
   "source": [
    "### Transformaciones de datos\n"
   ]
  },
  {
   "cell_type": "code",
   "execution_count": 93,
   "metadata": {
    "colab": {},
    "colab_type": "code",
    "executionInfo": {
     "elapsed": 2227,
     "status": "aborted",
     "timestamp": 1593785642051,
     "user": {
      "displayName": "Juan Finello",
      "photoUrl": "https://lh3.googleusercontent.com/a-/AOh14GhkEe8FcNn5ElS7591yV3nI_9MC8Yuo4NSdmGfowQ=s64",
      "userId": "01899113154645049238"
     },
     "user_tz": 180
    },
    "id": "ii5chzL7BFWu"
   },
   "outputs": [],
   "source": [
    "# Transformamos las variables objeto a tipo fecha\n",
    "data['FechaUltMovCA']= pd.to_datetime(data['FechaUltMovCA'])"
   ]
  },
  {
   "cell_type": "code",
   "execution_count": 94,
   "metadata": {
    "colab": {},
    "colab_type": "code",
    "executionInfo": {
     "elapsed": 2224,
     "status": "aborted",
     "timestamp": 1593785642052,
     "user": {
      "displayName": "Juan Finello",
      "photoUrl": "https://lh3.googleusercontent.com/a-/AOh14GhkEe8FcNn5ElS7591yV3nI_9MC8Yuo4NSdmGfowQ=s64",
      "userId": "01899113154645049238"
     },
     "user_tz": 180
    },
    "id": "s-OsVz9cBFWz"
   },
   "outputs": [],
   "source": [
    "data['FechaVinculacion']= pd.to_datetime(data['FechaVinculacion'])"
   ]
  },
  {
   "cell_type": "code",
   "execution_count": 95,
   "metadata": {
    "colab": {},
    "colab_type": "code",
    "executionInfo": {
     "elapsed": 2564,
     "status": "aborted",
     "timestamp": 1593785642395,
     "user": {
      "displayName": "Juan Finello",
      "photoUrl": "https://lh3.googleusercontent.com/a-/AOh14GhkEe8FcNn5ElS7591yV3nI_9MC8Yuo4NSdmGfowQ=s64",
      "userId": "01899113154645049238"
     },
     "user_tz": 180
    },
    "id": "00v8lmDXBFW4"
   },
   "outputs": [],
   "source": [
    "data['FechaSaldos']= pd.to_datetime(data['FechaSaldos'])"
   ]
  },
  {
   "cell_type": "code",
   "execution_count": 96,
   "metadata": {},
   "outputs": [],
   "source": [
    "data.loc[data.FechaUltMovCA.isna(),'FechaUltMovCA']=pd.to_datetime('2019-09-20')"
   ]
  },
  {
   "cell_type": "code",
   "execution_count": 97,
   "metadata": {
    "colab": {},
    "colab_type": "code",
    "executionInfo": {
     "elapsed": 2539,
     "status": "aborted",
     "timestamp": 1593785642396,
     "user": {
      "displayName": "Juan Finello",
      "photoUrl": "https://lh3.googleusercontent.com/a-/AOh14GhkEe8FcNn5ElS7591yV3nI_9MC8Yuo4NSdmGfowQ=s64",
      "userId": "01899113154645049238"
     },
     "user_tz": 180
    },
    "id": "ZOppB-gbBFXF"
   },
   "outputs": [],
   "source": [
    "# Tratamos la variable sexo"
   ]
  },
  {
   "cell_type": "code",
   "execution_count": 98,
   "metadata": {
    "colab": {},
    "colab_type": "code",
    "executionInfo": {
     "elapsed": 2523,
     "status": "aborted",
     "timestamp": 1593785642397,
     "user": {
      "displayName": "Juan Finello",
      "photoUrl": "https://lh3.googleusercontent.com/a-/AOh14GhkEe8FcNn5ElS7591yV3nI_9MC8Yuo4NSdmGfowQ=s64",
      "userId": "01899113154645049238"
     },
     "user_tz": 180
    },
    "id": "6rruC-X0BFXJ",
    "scrolled": true
   },
   "outputs": [
    {
     "data": {
      "text/plain": [
       "['M', 'F', ' ']"
      ]
     },
     "execution_count": 98,
     "metadata": {},
     "output_type": "execute_result"
    }
   ],
   "source": [
    "data['Sexo'].value_counts()\n",
    "data[\"Sexo\"].unique().tolist()"
   ]
  },
  {
   "cell_type": "code",
   "execution_count": 99,
   "metadata": {
    "colab": {},
    "colab_type": "code",
    "executionInfo": {
     "elapsed": 2519,
     "status": "aborted",
     "timestamp": 1593785642397,
     "user": {
      "displayName": "Juan Finello",
      "photoUrl": "https://lh3.googleusercontent.com/a-/AOh14GhkEe8FcNn5ElS7591yV3nI_9MC8Yuo4NSdmGfowQ=s64",
      "userId": "01899113154645049238"
     },
     "user_tz": 180
    },
    "id": "NM9BeUScBFXM"
   },
   "outputs": [],
   "source": [
    "data.Sexo = data.Sexo.str.replace(' ','Nan')"
   ]
  },
  {
   "cell_type": "code",
   "execution_count": 100,
   "metadata": {
    "colab": {},
    "colab_type": "code",
    "executionInfo": {
     "elapsed": 2517,
     "status": "aborted",
     "timestamp": 1593785642398,
     "user": {
      "displayName": "Juan Finello",
      "photoUrl": "https://lh3.googleusercontent.com/a-/AOh14GhkEe8FcNn5ElS7591yV3nI_9MC8Yuo4NSdmGfowQ=s64",
      "userId": "01899113154645049238"
     },
     "user_tz": 180
    },
    "id": "0j9jJ8WTBFXP"
   },
   "outputs": [],
   "source": [
    "# remplazamos los valores nulos por F, que es la categoria con mas ocurrencia\n",
    "\n",
    "data.loc[data['Sexo'] == 'Nan','Sexo'] = 'F'"
   ]
  },
  {
   "cell_type": "code",
   "execution_count": 101,
   "metadata": {
    "colab": {},
    "colab_type": "code",
    "executionInfo": {
     "elapsed": 2499,
     "status": "aborted",
     "timestamp": 1593785642398,
     "user": {
      "displayName": "Juan Finello",
      "photoUrl": "https://lh3.googleusercontent.com/a-/AOh14GhkEe8FcNn5ElS7591yV3nI_9MC8Yuo4NSdmGfowQ=s64",
      "userId": "01899113154645049238"
     },
     "user_tz": 180
    },
    "id": "PN9w_vr3BFXR"
   },
   "outputs": [
    {
     "data": {
      "text/plain": [
       "Edad\n",
       "18       64\n",
       "19      256\n",
       "20      900\n",
       "21     1761\n",
       "22     2630\n",
       "       ... \n",
       "113       2\n",
       "114       2\n",
       "117       2\n",
       "118      29\n",
       "119      19\n",
       "Length: 97, dtype: int64"
      ]
     },
     "execution_count": 101,
     "metadata": {},
     "output_type": "execute_result"
    }
   ],
   "source": [
    "#eliminanmos edades menores a 18 años, ya que posiblemente son datos erroneos \n",
    "\n",
    "data = data[data.Edad >= 18]\n",
    "\n",
    "data.groupby('Edad').size()"
   ]
  },
  {
   "cell_type": "code",
   "execution_count": 102,
   "metadata": {
    "colab": {},
    "colab_type": "code",
    "executionInfo": {
     "elapsed": 2483,
     "status": "aborted",
     "timestamp": 1593785642399,
     "user": {
      "displayName": "Juan Finello",
      "photoUrl": "https://lh3.googleusercontent.com/a-/AOh14GhkEe8FcNn5ElS7591yV3nI_9MC8Yuo4NSdmGfowQ=s64",
      "userId": "01899113154645049238"
     },
     "user_tz": 180
    },
    "id": "eu-Q0_uvBFXU"
   },
   "outputs": [],
   "source": [
    "## Categoria del producto\n",
    "# Disminuimos la cantidad de categorias uniendo aquellas que tienen menos ocurrencia en una nueva variable :OTRAS\n",
    "\n",
    "categ =data['CategoriaProducto'].value_counts(normalize=True)\n"
   ]
  },
  {
   "cell_type": "code",
   "execution_count": 103,
   "metadata": {
    "colab": {},
    "colab_type": "code",
    "executionInfo": {
     "elapsed": 2469,
     "status": "aborted",
     "timestamp": 1593785642401,
     "user": {
      "displayName": "Juan Finello",
      "photoUrl": "https://lh3.googleusercontent.com/a-/AOh14GhkEe8FcNn5ElS7591yV3nI_9MC8Yuo4NSdmGfowQ=s64",
      "userId": "01899113154645049238"
     },
     "user_tz": 180
    },
    "id": "m8o5QiQ7BFXX"
   },
   "outputs": [],
   "source": [
    "otras =categ [5:]\n",
    "otras =otras.index.tolist()\n"
   ]
  },
  {
   "cell_type": "code",
   "execution_count": 104,
   "metadata": {
    "colab": {},
    "colab_type": "code",
    "executionInfo": {
     "elapsed": 2466,
     "status": "aborted",
     "timestamp": 1593785642403,
     "user": {
      "displayName": "Juan Finello",
      "photoUrl": "https://lh3.googleusercontent.com/a-/AOh14GhkEe8FcNn5ElS7591yV3nI_9MC8Yuo4NSdmGfowQ=s64",
      "userId": "01899113154645049238"
     },
     "user_tz": 180
    },
    "id": "761XfxWaBFXZ"
   },
   "outputs": [],
   "source": [
    "data.loc[data['CategoriaProducto'].isin(otras),'CategoriaProducto']='OTRAS'"
   ]
  },
  {
   "cell_type": "code",
   "execution_count": 105,
   "metadata": {
    "colab": {},
    "colab_type": "code",
    "executionInfo": {
     "elapsed": 2448,
     "status": "aborted",
     "timestamp": 1593785642404,
     "user": {
      "displayName": "Juan Finello",
      "photoUrl": "https://lh3.googleusercontent.com/a-/AOh14GhkEe8FcNn5ElS7591yV3nI_9MC8Yuo4NSdmGfowQ=s64",
      "userId": "01899113154645049238"
     },
     "user_tz": 180
    },
    "id": "SsxeB3BNBFXd"
   },
   "outputs": [
    {
     "data": {
      "text/plain": [
       "14       252307\n",
       "10       102004\n",
       "12        84631\n",
       "OTRAS     20104\n",
       "28        15229\n",
       "19         9837\n",
       "Name: CategoriaProducto, dtype: int64"
      ]
     },
     "execution_count": 105,
     "metadata": {},
     "output_type": "execute_result"
    }
   ],
   "source": [
    "data.CategoriaProducto.value_counts()"
   ]
  },
  {
   "cell_type": "markdown",
   "metadata": {
    "colab_type": "text",
    "id": "2GGxSmDSBFXj"
   },
   "source": [
    "### Outliers "
   ]
  },
  {
   "cell_type": "code",
   "execution_count": 106,
   "metadata": {
    "colab": {},
    "colab_type": "code",
    "executionInfo": {
     "elapsed": 2446,
     "status": "aborted",
     "timestamp": 1593785642405,
     "user": {
      "displayName": "Juan Finello",
      "photoUrl": "https://lh3.googleusercontent.com/a-/AOh14GhkEe8FcNn5ElS7591yV3nI_9MC8Yuo4NSdmGfowQ=s64",
      "userId": "01899113154645049238"
     },
     "user_tz": 180
    },
    "id": "m7U1Sig2BFXk"
   },
   "outputs": [],
   "source": [
    "# Seleccionamos columnas numericas\n",
    "\n",
    "data_cols_num = data.select_dtypes(include=np.number).columns "
   ]
  },
  {
   "cell_type": "code",
   "execution_count": 107,
   "metadata": {},
   "outputs": [
    {
     "data": {
      "text/plain": [
       "Index(['periodo_cli', 'cant_productos', 'cant_PF', 'cant_TC', 'cant_PP',\n",
       "       'cant_seguros', 'importe_consumos', 'Edad', 'SaldoPromedioCAPesos',\n",
       "       'SaldoPromedioCADolares', 'SaldoPromedioCCAcreedor', 'TotalConsumoTD',\n",
       "       'cuotas_faltantes_1', 'cant_PF_ant_1', 'cant_TC_ant_1', 'cant_PP_ant_1',\n",
       "       'SaldoPromedioCAPesos_ant_1', 'SaldoPromedioCADolares_ant_1',\n",
       "       'SaldoPromedioCCAcreedor_ant_1', 'importe_consumos_ant_1',\n",
       "       'TotalConsumoTD_ant_1', 'cuotas_faltantes', 'cant_PF_ant_2',\n",
       "       'cant_TC_ant_2', 'cant_PP_ant_2', 'SaldoPromedioCAPesos_ant_2',\n",
       "       'SaldoPromedioCADolares_ant_2', 'SaldoPromedioCCAcreedor_ant_2',\n",
       "       'importe_consumos_ant_2', 'TotalConsumoTD_ant_2', 'cuotas_faltantes_2',\n",
       "       'score_deuda', 'target2'],\n",
       "      dtype='object')"
      ]
     },
     "execution_count": 107,
     "metadata": {},
     "output_type": "execute_result"
    }
   ],
   "source": [
    "data_cols_num"
   ]
  },
  {
   "cell_type": "markdown",
   "metadata": {
    "colab_type": "text",
    "id": "ZZaI2xKYBFXq"
   },
   "source": [
    "#### Edad"
   ]
  },
  {
   "cell_type": "code",
   "execution_count": 108,
   "metadata": {
    "colab": {},
    "colab_type": "code",
    "executionInfo": {
     "elapsed": 2414,
     "status": "aborted",
     "timestamp": 1593785642406,
     "user": {
      "displayName": "Juan Finello",
      "photoUrl": "https://lh3.googleusercontent.com/a-/AOh14GhkEe8FcNn5ElS7591yV3nI_9MC8Yuo4NSdmGfowQ=s64",
      "userId": "01899113154645049238"
     },
     "user_tz": 180
    },
    "id": "49fTSlCVBFXr"
   },
   "outputs": [
    {
     "data": {
      "text/plain": [
       "<matplotlib.axes._subplots.AxesSubplot at 0x7f04bcf7d350>"
      ]
     },
     "execution_count": 108,
     "metadata": {},
     "output_type": "execute_result"
    },
    {
     "data": {
      "image/png": "[encoded data removed]",
      "text/plain": [
       "<Figure size 432x288 with 1 Axes>"
      ]
     },
     "metadata": {
      "needs_background": "light"
     },
     "output_type": "display_data"
    }
   ],
   "source": [
    "data['Edad'].plot.hist(bins=30)"
   ]
  },
  {
   "cell_type": "code",
   "execution_count": 109,
   "metadata": {
    "colab": {},
    "colab_type": "code",
    "executionInfo": {
     "elapsed": 2412,
     "status": "aborted",
     "timestamp": 1593785642407,
     "user": {
      "displayName": "Juan Finello",
      "photoUrl": "https://lh3.googleusercontent.com/a-/AOh14GhkEe8FcNn5ElS7591yV3nI_9MC8Yuo4NSdmGfowQ=s64",
      "userId": "01899113154645049238"
     },
     "user_tz": 180
    },
    "id": "rll5L3ktBFXt"
   },
   "outputs": [],
   "source": [
    "saldo = data[['SaldoPromedioCAPesos', 'SaldoPromedioCADolares',\n",
    "       'SaldoPromedioCCAcreedor','SaldoPromedioCAPesos_ant_1', 'SaldoPromedioCADolares_ant_1',\n",
    "       'SaldoPromedioCCAcreedor_ant_1','SaldoPromedioCAPesos_ant_2',\n",
    "       'SaldoPromedioCADolares_ant_2', 'SaldoPromedioCCAcreedor_ant_2']]"
   ]
  },
  {
   "cell_type": "code",
   "execution_count": 110,
   "metadata": {
    "colab": {},
    "colab_type": "code",
    "executionInfo": {
     "elapsed": 2408,
     "status": "aborted",
     "timestamp": 1593785642407,
     "user": {
      "displayName": "Juan Finello",
      "photoUrl": "https://lh3.googleusercontent.com/a-/AOh14GhkEe8FcNn5ElS7591yV3nI_9MC8Yuo4NSdmGfowQ=s64",
      "userId": "01899113154645049238"
     },
     "user_tz": 180
    },
    "id": "-OkoncK0BFXw"
   },
   "outputs": [],
   "source": [
    "pd.options.display.float_format = '{:.4f}'.format"
   ]
  },
  {
   "cell_type": "code",
   "execution_count": 111,
   "metadata": {
    "colab": {},
    "colab_type": "code",
    "executionInfo": {
     "elapsed": 2395,
     "status": "aborted",
     "timestamp": 1593785642408,
     "user": {
      "displayName": "Juan Finello",
      "photoUrl": "https://lh3.googleusercontent.com/a-/AOh14GhkEe8FcNn5ElS7591yV3nI_9MC8Yuo4NSdmGfowQ=s64",
      "userId": "01899113154645049238"
     },
     "user_tz": 180
    },
    "id": "zNvEDa7BBFXy"
   },
   "outputs": [
    {
     "data": {
      "text/html": [
       "<div>\n",
       "<style scoped>\n",
       "    .dataframe tbody tr th:only-of-type {\n",
       "        vertical-align: middle;\n",
       "    }\n",
       "\n",
       "    .dataframe tbody tr th {\n",
       "        vertical-align: top;\n",
       "    }\n",
       "\n",
       "    .dataframe thead th {\n",
       "        text-align: right;\n",
       "    }\n",
       "</style>\n",
       "<table border=\"1\" class=\"dataframe\">\n",
       "  <thead>\n",
       "    <tr style=\"text-align: right;\">\n",
       "      <th></th>\n",
       "      <th>SaldoPromedioCAPesos</th>\n",
       "      <th>SaldoPromedioCADolares</th>\n",
       "      <th>SaldoPromedioCCAcreedor</th>\n",
       "      <th>SaldoPromedioCAPesos_ant_1</th>\n",
       "      <th>SaldoPromedioCADolares_ant_1</th>\n",
       "      <th>SaldoPromedioCCAcreedor_ant_1</th>\n",
       "      <th>SaldoPromedioCAPesos_ant_2</th>\n",
       "      <th>SaldoPromedioCADolares_ant_2</th>\n",
       "      <th>SaldoPromedioCCAcreedor_ant_2</th>\n",
       "    </tr>\n",
       "  </thead>\n",
       "  <tbody>\n",
       "    <tr>\n",
       "      <th>count</th>\n",
       "      <td>484112.0000</td>\n",
       "      <td>484112.0000</td>\n",
       "      <td>484112.0000</td>\n",
       "      <td>484112.0000</td>\n",
       "      <td>484112.0000</td>\n",
       "      <td>484112.0000</td>\n",
       "      <td>484112.0000</td>\n",
       "      <td>484112.0000</td>\n",
       "      <td>484112.0000</td>\n",
       "    </tr>\n",
       "    <tr>\n",
       "      <th>mean</th>\n",
       "      <td>38466.1355</td>\n",
       "      <td>655.3538</td>\n",
       "      <td>934.6953</td>\n",
       "      <td>33376.7339</td>\n",
       "      <td>688.0691</td>\n",
       "      <td>851.3987</td>\n",
       "      <td>32136.0543</td>\n",
       "      <td>739.5453</td>\n",
       "      <td>804.7481</td>\n",
       "    </tr>\n",
       "    <tr>\n",
       "      <th>std</th>\n",
       "      <td>107114.0960</td>\n",
       "      <td>5537.9150</td>\n",
       "      <td>37893.9590</td>\n",
       "      <td>102404.1655</td>\n",
       "      <td>5623.8737</td>\n",
       "      <td>36769.7071</td>\n",
       "      <td>98881.6334</td>\n",
       "      <td>5935.3148</td>\n",
       "      <td>34814.7524</td>\n",
       "    </tr>\n",
       "    <tr>\n",
       "      <th>min</th>\n",
       "      <td>0.0000</td>\n",
       "      <td>0.0000</td>\n",
       "      <td>0.0000</td>\n",
       "      <td>0.0000</td>\n",
       "      <td>0.0000</td>\n",
       "      <td>0.0000</td>\n",
       "      <td>0.0000</td>\n",
       "      <td>0.0000</td>\n",
       "      <td>0.0000</td>\n",
       "    </tr>\n",
       "    <tr>\n",
       "      <th>25%</th>\n",
       "      <td>2928.6800</td>\n",
       "      <td>0.0000</td>\n",
       "      <td>0.0000</td>\n",
       "      <td>2424.4200</td>\n",
       "      <td>0.0000</td>\n",
       "      <td>0.0000</td>\n",
       "      <td>2303.2650</td>\n",
       "      <td>0.0000</td>\n",
       "      <td>0.0000</td>\n",
       "    </tr>\n",
       "    <tr>\n",
       "      <th>50%</th>\n",
       "      <td>14116.2100</td>\n",
       "      <td>0.0000</td>\n",
       "      <td>0.0000</td>\n",
       "      <td>11355.4950</td>\n",
       "      <td>0.0000</td>\n",
       "      <td>0.0000</td>\n",
       "      <td>10645.4200</td>\n",
       "      <td>0.0000</td>\n",
       "      <td>0.0000</td>\n",
       "    </tr>\n",
       "    <tr>\n",
       "      <th>75%</th>\n",
       "      <td>37516.5250</td>\n",
       "      <td>0.0300</td>\n",
       "      <td>0.0000</td>\n",
       "      <td>31189.3725</td>\n",
       "      <td>0.0000</td>\n",
       "      <td>0.0000</td>\n",
       "      <td>30120.4550</td>\n",
       "      <td>0.0000</td>\n",
       "      <td>0.0000</td>\n",
       "    </tr>\n",
       "    <tr>\n",
       "      <th>max</th>\n",
       "      <td>9412126.4800</td>\n",
       "      <td>757625.9600</td>\n",
       "      <td>11655409.7000</td>\n",
       "      <td>16024181.9100</td>\n",
       "      <td>757470.6800</td>\n",
       "      <td>13021518.2700</td>\n",
       "      <td>16024181.9100</td>\n",
       "      <td>753736.9200</td>\n",
       "      <td>14731642.9600</td>\n",
       "    </tr>\n",
       "  </tbody>\n",
       "</table>\n",
       "</div>"
      ],
      "text/plain": [
       "       SaldoPromedioCAPesos  SaldoPromedioCADolares  SaldoPromedioCCAcreedor  \\\n",
       "count           484112.0000             484112.0000              484112.0000   \n",
       "mean             38466.1355                655.3538                 934.6953   \n",
       "std             107114.0960               5537.9150               37893.9590   \n",
       "min                  0.0000                  0.0000                   0.0000   \n",
       "25%               2928.6800                  0.0000                   0.0000   \n",
       "50%              14116.2100                  0.0000                   0.0000   \n",
       "75%              37516.5250                  0.0300                   0.0000   \n",
       "max            9412126.4800             757625.9600            11655409.7000   \n",
       "\n",
       "       SaldoPromedioCAPesos_ant_1  SaldoPromedioCADolares_ant_1  \\\n",
       "count                 484112.0000                   484112.0000   \n",
       "mean                   33376.7339                      688.0691   \n",
       "std                   102404.1655                     5623.8737   \n",
       "min                        0.0000                        0.0000   \n",
       "25%                     2424.4200                        0.0000   \n",
       "50%                    11355.4950                        0.0000   \n",
       "75%                    31189.3725                        0.0000   \n",
       "max                 16024181.9100                   757470.6800   \n",
       "\n",
       "       SaldoPromedioCCAcreedor_ant_1  SaldoPromedioCAPesos_ant_2  \\\n",
       "count                    484112.0000                 484112.0000   \n",
       "mean                        851.3987                  32136.0543   \n",
       "std                       36769.7071                  98881.6334   \n",
       "min                           0.0000                      0.0000   \n",
       "25%                           0.0000                   2303.2650   \n",
       "50%                           0.0000                  10645.4200   \n",
       "75%                           0.0000                  30120.4550   \n",
       "max                    13021518.2700               16024181.9100   \n",
       "\n",
       "       SaldoPromedioCADolares_ant_2  SaldoPromedioCCAcreedor_ant_2  \n",
       "count                   484112.0000                    484112.0000  \n",
       "mean                       739.5453                       804.7481  \n",
       "std                       5935.3148                     34814.7524  \n",
       "min                          0.0000                         0.0000  \n",
       "25%                          0.0000                         0.0000  \n",
       "50%                          0.0000                         0.0000  \n",
       "75%                          0.0000                         0.0000  \n",
       "max                     753736.9200                  14731642.9600  "
      ]
     },
     "execution_count": 111,
     "metadata": {},
     "output_type": "execute_result"
    }
   ],
   "source": [
    "saldo.describe()"
   ]
  },
  {
   "cell_type": "code",
   "execution_count": 112,
   "metadata": {
    "colab": {},
    "colab_type": "code",
    "executionInfo": {
     "elapsed": 2382,
     "status": "aborted",
     "timestamp": 1593785642408,
     "user": {
      "displayName": "Juan Finello",
      "photoUrl": "https://lh3.googleusercontent.com/a-/AOh14GhkEe8FcNn5ElS7591yV3nI_9MC8Yuo4NSdmGfowQ=s64",
      "userId": "01899113154645049238"
     },
     "user_tz": 180
    },
    "id": "-sqbHgxbBFX0"
   },
   "outputs": [
    {
     "data": {
      "image/png": "[encoded data removed]",
      "text/plain": [
       "<Figure size 1080x504 with 3 Axes>"
      ]
     },
     "metadata": {
      "needs_background": "light"
     },
     "output_type": "display_data"
    }
   ],
   "source": [
    "plt.figure(figsize=(15,7))\n",
    "plt.subplot(1, 3, 1)\n",
    "plt.hist(data['SaldoPromedioCAPesos'], bins = 90, color = 'r')\n",
    "plt.subplot(1, 3, 2)\n",
    "plt.hist(data['SaldoPromedioCADolares'], bins = 90, color = 'g')\n",
    "plt.subplot(1, 3, 3)\n",
    "plt.hist(data['SaldoPromedioCCAcreedor'], bins = 90, color = 'y')\n",
    "plt.show()\n"
   ]
  },
  {
   "cell_type": "code",
   "execution_count": 113,
   "metadata": {
    "colab": {},
    "colab_type": "code",
    "executionInfo": {
     "elapsed": 2370,
     "status": "aborted",
     "timestamp": 1593785642409,
     "user": {
      "displayName": "Juan Finello",
      "photoUrl": "https://lh3.googleusercontent.com/a-/AOh14GhkEe8FcNn5ElS7591yV3nI_9MC8Yuo4NSdmGfowQ=s64",
      "userId": "01899113154645049238"
     },
     "user_tz": 180
    },
    "id": "BoItxwArBFX4"
   },
   "outputs": [
    {
     "data": {
      "image/png": "[encoded data removed]",
      "text/plain": [
       "<Figure size 1080x504 with 3 Axes>"
      ]
     },
     "metadata": {
      "needs_background": "light"
     },
     "output_type": "display_data"
    }
   ],
   "source": [
    "plt.figure(figsize=(15,7))\n",
    "plt.subplot(1, 3, 1)\n",
    "plt.hist(data['SaldoPromedioCAPesos_ant_1'], bins = 90, color = 'r')\n",
    "plt.subplot(1, 3, 2)\n",
    "plt.hist(data['SaldoPromedioCADolares_ant_1'], bins = 90, color = 'g')\n",
    "plt.subplot(1, 3, 3)\n",
    "plt.hist(data['SaldoPromedioCCAcreedor_ant_1'], bins = 90, color = 'y')\n",
    "plt.show()\n",
    "\n"
   ]
  },
  {
   "cell_type": "code",
   "execution_count": 114,
   "metadata": {},
   "outputs": [
    {
     "data": {
      "text/plain": [
       "0       0.9993\n",
       "84794   0.0000\n",
       "1611    0.0000\n",
       "11254   0.0000\n",
       "844     0.0000\n",
       "         ...  \n",
       "42172   0.0000\n",
       "11693   0.0000\n",
       "18848   0.0000\n",
       "4011    0.0000\n",
       "3708    0.0000\n",
       "Name: importe_consumos, Length: 317, dtype: float64"
      ]
     },
     "execution_count": 114,
     "metadata": {},
     "output_type": "execute_result"
    }
   ],
   "source": [
    "data['importe_consumos'].value_counts(normalize= True)"
   ]
  },
  {
   "cell_type": "markdown",
   "metadata": {
    "colab_type": "text",
    "id": "bNlUYDF1BFX6"
   },
   "source": [
    "### Tratamiento de outliers por cada variable "
   ]
  },
  {
   "cell_type": "code",
   "execution_count": 115,
   "metadata": {
    "colab": {},
    "colab_type": "code",
    "executionInfo": {
     "elapsed": 2356,
     "status": "aborted",
     "timestamp": 1593785642411,
     "user": {
      "displayName": "Juan Finello",
      "photoUrl": "https://lh3.googleusercontent.com/a-/AOh14GhkEe8FcNn5ElS7591yV3nI_9MC8Yuo4NSdmGfowQ=s64",
      "userId": "01899113154645049238"
     },
     "user_tz": 180
    },
    "id": "ob83kgJ0BFX-"
   },
   "outputs": [],
   "source": [
    "# Funcion para modificar los outlier fuera del cuantil 0.95\n",
    "\n",
    "def cambiar(df ,col):\n",
    "    df.loc[df[col]>df[col].quantile(0.975),col] = df[col].quantile(0.975)\n",
    "    \n"
   ]
  },
  {
   "cell_type": "code",
   "execution_count": 116,
   "metadata": {
    "colab": {},
    "colab_type": "code",
    "executionInfo": {
     "elapsed": 2345,
     "status": "aborted",
     "timestamp": 1593785642411,
     "user": {
      "displayName": "Juan Finello",
      "photoUrl": "https://lh3.googleusercontent.com/a-/AOh14GhkEe8FcNn5ElS7591yV3nI_9MC8Yuo4NSdmGfowQ=s64",
      "userId": "01899113154645049238"
     },
     "user_tz": 180
    },
    "id": "KCMfFsUUBFYA"
   },
   "outputs": [
    {
     "data": {
      "text/plain": [
       "<matplotlib.axes._subplots.AxesSubplot at 0x7f04bd700750>"
      ]
     },
     "execution_count": 116,
     "metadata": {},
     "output_type": "execute_result"
    },
    {
     "data": {
      "image/png": "[encoded data removed]",
      "text/plain": [
       "<Figure size 3600x504 with 4 Axes>"
      ]
     },
     "metadata": {
      "needs_background": "light"
     },
     "output_type": "display_data"
    }
   ],
   "source": [
    "from seaborn import violinplot\n",
    "plt.figure(figsize = (50,7))\n",
    "\n",
    "plt.subplot(1,12,1)\n",
    "violinplot(x= 'cant_productos', data=data)\n",
    "\n",
    "plt.subplot(1,12,2)\n",
    "violinplot(x='TotalConsumoTD_ant_2', data=data)\n",
    "\n",
    "plt.subplot(1,12,3)\n",
    "violinplot(x='cuotas_faltantes_2', data=data)\n",
    "\n",
    "\n",
    "plt.subplot(1,12,4)\n",
    "violinplot(x='score_deuda', data=data)"
   ]
  },
  {
   "cell_type": "code",
   "execution_count": 117,
   "metadata": {
    "code_folding": []
   },
   "outputs": [],
   "source": [
    "# aplicamos la funcion para eliminar outliers a todas las variables numericas \n",
    "\n",
    "#for col in data[data_cols_num]:\n",
    "#    cambiar(data, col)\n",
    "\n",
    "cambiar(data ,'cant_productos')\n",
    "cambiar(data ,'periodo_cli')\n",
    "cambiar(data ,'cant_PF')\n",
    "cambiar(data ,'cant_TC',)\n",
    "\n",
    "cambiar(data ,'cant_PP')\n",
    "cambiar(data ,'cant_seguros')\n",
    "cambiar(data ,'Edad',)\n",
    "\n",
    "cambiar(data ,'SaldoPromedioCAPesos')\n",
    "cambiar(data ,'SaldoPromedioCADolares')\n",
    "cambiar(data ,'TotalConsumoTD')\n",
    "\n",
    "cambiar(data ,'cuotas_faltantes_1')\n",
    "cambiar(data ,'cant_PF_ant_1')\n",
    "cambiar(data ,'cant_TC_ant_1')\n",
    "cambiar(data ,'cant_PP_ant_1',)\n",
    "\n",
    "cambiar(data ,'SaldoPromedioCAPesos_ant_1')\n",
    "cambiar(data ,'SaldoPromedioCADolares_ant_1')\n",
    "cambiar(data ,'SaldoPromedioCCAcreedor_ant_1')\n",
    "cambiar(data ,'importe_consumos_ant_1',)\n",
    "\n",
    "cambiar(data ,'TotalConsumoTD_ant_1')\n",
    "cambiar(data ,'cuotas_faltantes')\n",
    "cambiar(data ,'cant_PF_ant_2')\n",
    "cambiar(data ,'cant_TC_ant_2',)\n",
    "\n",
    "cambiar(data ,'cant_PP_ant_2')\n",
    "cambiar(data ,'SaldoPromedioCAPesos_ant_2')\n",
    "cambiar(data ,'SaldoPromedioCADolares_ant_2')\n",
    "\n",
    "\n",
    "cambiar(data ,'TotalConsumoTD_ant_2')\n",
    "cambiar(data ,'cuotas_faltantes_2')\n",
    "cambiar(data , 'score_deuda',)\n"
   ]
  },
  {
   "cell_type": "code",
   "execution_count": 118,
   "metadata": {
    "colab": {},
    "colab_type": "code",
    "executionInfo": {
     "elapsed": 2331,
     "status": "aborted",
     "timestamp": 1593785642412,
     "user": {
      "displayName": "Juan Finello",
      "photoUrl": "https://lh3.googleusercontent.com/a-/AOh14GhkEe8FcNn5ElS7591yV3nI_9MC8Yuo4NSdmGfowQ=s64",
      "userId": "01899113154645049238"
     },
     "user_tz": 180
    },
    "id": "4gDFdqZnBFYF"
   },
   "outputs": [
    {
     "data": {
      "text/plain": [
       "<matplotlib.axes._subplots.AxesSubplot at 0x7f04bd853150>"
      ]
     },
     "execution_count": 118,
     "metadata": {},
     "output_type": "execute_result"
    },
    {
     "data": {
      "text/plain": [
       "<Figure size 3600x504 with 0 Axes>"
      ]
     },
     "metadata": {},
     "output_type": "display_data"
    },
    {
     "data": {
      "image/png": "[encoded data removed]",
      "text/plain": [
       "<Figure size 3600x504 with 4 Axes>"
      ]
     },
     "metadata": {
      "needs_background": "light"
     },
     "output_type": "display_data"
    }
   ],
   "source": [
    "# Chequeamos que los cambios sean efectivos \n",
    "\n",
    "from seaborn import violinplot\n",
    "plt.figure(figsize = (50,7))\n",
    "\n",
    "from seaborn import violinplot\n",
    "plt.figure(figsize = (50,7))\n",
    "\n",
    "plt.subplot(1,12,1)\n",
    "violinplot(x= 'cant_productos', data=data)\n",
    "\n",
    "plt.subplot(1,12,2)\n",
    "violinplot(x='TotalConsumoTD_ant_2', data=data)\n",
    "\n",
    "plt.subplot(1,12,3)\n",
    "violinplot(x='cuotas_faltantes_2', data=data)\n",
    "\n",
    "\n",
    "plt.subplot(1,12,4)\n",
    "violinplot(x='score_deuda', data=data)"
   ]
  },
  {
   "cell_type": "markdown",
   "metadata": {
    "colab_type": "text",
    "id": "cIjTxRMZBFYH"
   },
   "source": [
    "columnas a las que no fue conveniente aplicar la modificacion de outliers :\n",
    "\"importe_consumos\" - 'SaldoPromedioCCAcreedor' - 'SaldoPromedioCCAcreedor_ant_2' -  'importe_consumos_ant_2' - \n",
    "\n",
    "en duda : 'score_deuda'"
   ]
  },
  {
   "cell_type": "markdown",
   "metadata": {
    "colab_type": "text",
    "id": "az9UNus1BFYI"
   },
   "source": [
    " # Exploracion de variables "
   ]
  },
  {
   "cell_type": "markdown",
   "metadata": {
    "colab_type": "text",
    "id": "9iZqysJHBFYp"
   },
   "source": [
    "### descripcion del input\n",
    "\n",
    "#fecha de saldo\n",
    "#cant_productos . debe ser la suma de los siguientes 3 aunque tambien hay otros productos por fuera de estos\n",
    "#cant_pf = cantidd plazo fijo\n",
    "#cant_tc=tarjeta de credito\n",
    "#cant_pp = prestamo personal \n",
    "#fecha_ult_mov_cajadeahorro \n",
    "#cant_seguros\n",
    "#importe consumos\n",
    "#sexo\n",
    "#CA= CAJA DE AHORRO\n",
    "#totalconsumoTD =  total consumo tarjeta debito\n",
    "#categoriaproducto = clasificacion de productos\n",
    "#fechaviculacion = al dato\n",
    "#coutas_faltantes_1= de algun prestamo\n",
    "#cant_pf_ant = cantidad plazo fijo al mes actual\n",
    "#score_deuda =  de 1 a 5 , en donde 1 es una deuda bien paga, y 5 es alguien con mucha deudas\n",
    "#target = hizo clik en el link\n",
    "#target 2= hizo click en el mail\n",
    "\n",
    "\n"
   ]
  },
  {
   "cell_type": "code",
   "execution_count": 119,
   "metadata": {
    "colab": {},
    "colab_type": "code",
    "executionInfo": {
     "elapsed": 2206,
     "status": "aborted",
     "timestamp": 1593785642414,
     "user": {
      "displayName": "Juan Finello",
      "photoUrl": "https://lh3.googleusercontent.com/a-/AOh14GhkEe8FcNn5ElS7591yV3nI_9MC8Yuo4NSdmGfowQ=s64",
      "userId": "01899113154645049238"
     },
     "user_tz": 180
    },
    "id": "p_twtLBXBFYN",
    "scrolled": false
   },
   "outputs": [
    {
     "data": {
      "text/html": [
       "<div>\n",
       "<style scoped>\n",
       "    .dataframe tbody tr th:only-of-type {\n",
       "        vertical-align: middle;\n",
       "    }\n",
       "\n",
       "    .dataframe tbody tr th {\n",
       "        vertical-align: top;\n",
       "    }\n",
       "\n",
       "    .dataframe thead th {\n",
       "        text-align: right;\n",
       "    }\n",
       "</style>\n",
       "<table border=\"1\" class=\"dataframe\">\n",
       "  <thead>\n",
       "    <tr style=\"text-align: right;\">\n",
       "      <th></th>\n",
       "      <th>periodo_cli</th>\n",
       "      <th>cant_productos</th>\n",
       "      <th>cant_PF</th>\n",
       "      <th>cant_TC</th>\n",
       "      <th>cant_PP</th>\n",
       "      <th>cant_seguros</th>\n",
       "      <th>importe_consumos</th>\n",
       "      <th>Edad</th>\n",
       "      <th>SaldoPromedioCAPesos</th>\n",
       "      <th>SaldoPromedioCADolares</th>\n",
       "      <th>SaldoPromedioCCAcreedor</th>\n",
       "      <th>TotalConsumoTD</th>\n",
       "      <th>cuotas_faltantes_1</th>\n",
       "      <th>cant_PF_ant_1</th>\n",
       "      <th>cant_TC_ant_1</th>\n",
       "      <th>cant_PP_ant_1</th>\n",
       "      <th>SaldoPromedioCAPesos_ant_1</th>\n",
       "      <th>SaldoPromedioCADolares_ant_1</th>\n",
       "      <th>SaldoPromedioCCAcreedor_ant_1</th>\n",
       "      <th>importe_consumos_ant_1</th>\n",
       "      <th>TotalConsumoTD_ant_1</th>\n",
       "      <th>cuotas_faltantes</th>\n",
       "      <th>cant_PF_ant_2</th>\n",
       "      <th>cant_TC_ant_2</th>\n",
       "      <th>cant_PP_ant_2</th>\n",
       "      <th>SaldoPromedioCAPesos_ant_2</th>\n",
       "      <th>SaldoPromedioCADolares_ant_2</th>\n",
       "      <th>SaldoPromedioCCAcreedor_ant_2</th>\n",
       "      <th>importe_consumos_ant_2</th>\n",
       "      <th>TotalConsumoTD_ant_2</th>\n",
       "      <th>cuotas_faltantes_2</th>\n",
       "      <th>score_deuda</th>\n",
       "    </tr>\n",
       "    <tr>\n",
       "      <th>target2</th>\n",
       "      <th></th>\n",
       "      <th></th>\n",
       "      <th></th>\n",
       "      <th></th>\n",
       "      <th></th>\n",
       "      <th></th>\n",
       "      <th></th>\n",
       "      <th></th>\n",
       "      <th></th>\n",
       "      <th></th>\n",
       "      <th></th>\n",
       "      <th></th>\n",
       "      <th></th>\n",
       "      <th></th>\n",
       "      <th></th>\n",
       "      <th></th>\n",
       "      <th></th>\n",
       "      <th></th>\n",
       "      <th></th>\n",
       "      <th></th>\n",
       "      <th></th>\n",
       "      <th></th>\n",
       "      <th></th>\n",
       "      <th></th>\n",
       "      <th></th>\n",
       "      <th></th>\n",
       "      <th></th>\n",
       "      <th></th>\n",
       "      <th></th>\n",
       "      <th></th>\n",
       "      <th></th>\n",
       "      <th></th>\n",
       "    </tr>\n",
       "  </thead>\n",
       "  <tbody>\n",
       "    <tr>\n",
       "      <th>0.0000</th>\n",
       "      <td>0.4689</td>\n",
       "      <td>3.2954</td>\n",
       "      <td>0.1021</td>\n",
       "      <td>1.2149</td>\n",
       "      <td>0.1821</td>\n",
       "      <td>0.4007</td>\n",
       "      <td>14.9385</td>\n",
       "      <td>48.0753</td>\n",
       "      <td>30170.6348</td>\n",
       "      <td>263.8785</td>\n",
       "      <td>791.6414</td>\n",
       "      <td>4921.0828</td>\n",
       "      <td>7.5623</td>\n",
       "      <td>0.0732</td>\n",
       "      <td>1.2131</td>\n",
       "      <td>0.1837</td>\n",
       "      <td>25989.5485</td>\n",
       "      <td>288.8160</td>\n",
       "      <td>0.2967</td>\n",
       "      <td>0.0000</td>\n",
       "      <td>4132.6185</td>\n",
       "      <td>7.4559</td>\n",
       "      <td>0.0676</td>\n",
       "      <td>1.2089</td>\n",
       "      <td>0.1843</td>\n",
       "      <td>25147.8794</td>\n",
       "      <td>307.9111</td>\n",
       "      <td>665.7983</td>\n",
       "      <td>11.2413</td>\n",
       "      <td>3985.6340</td>\n",
       "      <td>7.6558</td>\n",
       "      <td>0.8868</td>\n",
       "    </tr>\n",
       "    <tr>\n",
       "      <th>1.0000</th>\n",
       "      <td>0.6458</td>\n",
       "      <td>3.6011</td>\n",
       "      <td>0.1262</td>\n",
       "      <td>1.4422</td>\n",
       "      <td>0.1668</td>\n",
       "      <td>0.3931</td>\n",
       "      <td>32.0436</td>\n",
       "      <td>50.8516</td>\n",
       "      <td>35876.8740</td>\n",
       "      <td>340.8622</td>\n",
       "      <td>1192.8146</td>\n",
       "      <td>5297.1010</td>\n",
       "      <td>6.9361</td>\n",
       "      <td>0.0877</td>\n",
       "      <td>1.4296</td>\n",
       "      <td>0.1669</td>\n",
       "      <td>29918.8232</td>\n",
       "      <td>371.0315</td>\n",
       "      <td>0.3586</td>\n",
       "      <td>0.0000</td>\n",
       "      <td>4230.5345</td>\n",
       "      <td>6.8668</td>\n",
       "      <td>0.0816</td>\n",
       "      <td>1.4144</td>\n",
       "      <td>0.1667</td>\n",
       "      <td>28309.1841</td>\n",
       "      <td>406.9002</td>\n",
       "      <td>1055.4622</td>\n",
       "      <td>26.4261</td>\n",
       "      <td>4091.0773</td>\n",
       "      <td>6.9981</td>\n",
       "      <td>0.9139</td>\n",
       "    </tr>\n",
       "  </tbody>\n",
       "</table>\n",
       "</div>"
      ],
      "text/plain": [
       "         periodo_cli  cant_productos  cant_PF  cant_TC  cant_PP  cant_seguros  \\\n",
       "target2                                                                         \n",
       "0.0000        0.4689          3.2954   0.1021   1.2149   0.1821        0.4007   \n",
       "1.0000        0.6458          3.6011   0.1262   1.4422   0.1668        0.3931   \n",
       "\n",
       "         importe_consumos    Edad  SaldoPromedioCAPesos  \\\n",
       "target2                                                   \n",
       "0.0000            14.9385 48.0753            30170.6348   \n",
       "1.0000            32.0436 50.8516            35876.8740   \n",
       "\n",
       "         SaldoPromedioCADolares  SaldoPromedioCCAcreedor  TotalConsumoTD  \\\n",
       "target2                                                                    \n",
       "0.0000                 263.8785                 791.6414       4921.0828   \n",
       "1.0000                 340.8622                1192.8146       5297.1010   \n",
       "\n",
       "         cuotas_faltantes_1  cant_PF_ant_1  cant_TC_ant_1  cant_PP_ant_1  \\\n",
       "target2                                                                    \n",
       "0.0000               7.5623         0.0732         1.2131         0.1837   \n",
       "1.0000               6.9361         0.0877         1.4296         0.1669   \n",
       "\n",
       "         SaldoPromedioCAPesos_ant_1  SaldoPromedioCADolares_ant_1  \\\n",
       "target2                                                             \n",
       "0.0000                   25989.5485                      288.8160   \n",
       "1.0000                   29918.8232                      371.0315   \n",
       "\n",
       "         SaldoPromedioCCAcreedor_ant_1  importe_consumos_ant_1  \\\n",
       "target2                                                          \n",
       "0.0000                          0.2967                  0.0000   \n",
       "1.0000                          0.3586                  0.0000   \n",
       "\n",
       "         TotalConsumoTD_ant_1  cuotas_faltantes  cant_PF_ant_2  cant_TC_ant_2  \\\n",
       "target2                                                                         \n",
       "0.0000              4132.6185            7.4559         0.0676         1.2089   \n",
       "1.0000              4230.5345            6.8668         0.0816         1.4144   \n",
       "\n",
       "         cant_PP_ant_2  SaldoPromedioCAPesos_ant_2  \\\n",
       "target2                                              \n",
       "0.0000          0.1843                  25147.8794   \n",
       "1.0000          0.1667                  28309.1841   \n",
       "\n",
       "         SaldoPromedioCADolares_ant_2  SaldoPromedioCCAcreedor_ant_2  \\\n",
       "target2                                                                \n",
       "0.0000                       307.9111                       665.7983   \n",
       "1.0000                       406.9002                      1055.4622   \n",
       "\n",
       "         importe_consumos_ant_2  TotalConsumoTD_ant_2  cuotas_faltantes_2  \\\n",
       "target2                                                                     \n",
       "0.0000                  11.2413             3985.6340              7.6558   \n",
       "1.0000                  26.4261             4091.0773              6.9981   \n",
       "\n",
       "         score_deuda  \n",
       "target2               \n",
       "0.0000        0.8868  \n",
       "1.0000        0.9139  "
      ]
     },
     "execution_count": 119,
     "metadata": {},
     "output_type": "execute_result"
    }
   ],
   "source": [
    "# Analizamos la media y moda para la variable target en cada variable numerica para buscar patrones\n",
    "# que diferencien al grupo de los que abre el mail y al grupo de los que no\n",
    "\n",
    "data.groupby('target2').mean()\n"
   ]
  },
  {
   "cell_type": "code",
   "execution_count": 120,
   "metadata": {},
   "outputs": [
    {
     "data": {
      "text/html": [
       "<div>\n",
       "<style scoped>\n",
       "    .dataframe tbody tr th:only-of-type {\n",
       "        vertical-align: middle;\n",
       "    }\n",
       "\n",
       "    .dataframe tbody tr th {\n",
       "        vertical-align: top;\n",
       "    }\n",
       "\n",
       "    .dataframe thead th {\n",
       "        text-align: right;\n",
       "    }\n",
       "</style>\n",
       "<table border=\"1\" class=\"dataframe\">\n",
       "  <thead>\n",
       "    <tr style=\"text-align: right;\">\n",
       "      <th></th>\n",
       "      <th>FechaSaldos</th>\n",
       "      <th>periodo_cli</th>\n",
       "      <th>cant_productos</th>\n",
       "      <th>cant_PF</th>\n",
       "      <th>cant_TC</th>\n",
       "      <th>cant_PP</th>\n",
       "      <th>FechaUltMovCA</th>\n",
       "      <th>cant_seguros</th>\n",
       "      <th>importe_consumos</th>\n",
       "      <th>Edad</th>\n",
       "      <th>Sexo</th>\n",
       "      <th>SaldoPromedioCAPesos</th>\n",
       "      <th>SaldoPromedioCADolares</th>\n",
       "      <th>SaldoPromedioCCAcreedor</th>\n",
       "      <th>TotalConsumoTD</th>\n",
       "      <th>CategoriaProducto</th>\n",
       "      <th>FechaVinculacion</th>\n",
       "      <th>cuotas_faltantes_1</th>\n",
       "      <th>cant_PF_ant_1</th>\n",
       "      <th>cant_TC_ant_1</th>\n",
       "      <th>cant_PP_ant_1</th>\n",
       "      <th>SaldoPromedioCAPesos_ant_1</th>\n",
       "      <th>SaldoPromedioCADolares_ant_1</th>\n",
       "      <th>SaldoPromedioCCAcreedor_ant_1</th>\n",
       "      <th>importe_consumos_ant_1</th>\n",
       "      <th>TotalConsumoTD_ant_1</th>\n",
       "      <th>cuotas_faltantes</th>\n",
       "      <th>cant_PF_ant_2</th>\n",
       "      <th>cant_TC_ant_2</th>\n",
       "      <th>cant_PP_ant_2</th>\n",
       "      <th>SaldoPromedioCAPesos_ant_2</th>\n",
       "      <th>SaldoPromedioCADolares_ant_2</th>\n",
       "      <th>SaldoPromedioCCAcreedor_ant_2</th>\n",
       "      <th>importe_consumos_ant_2</th>\n",
       "      <th>TotalConsumoTD_ant_2</th>\n",
       "      <th>cuotas_faltantes_2</th>\n",
       "      <th>score_deuda</th>\n",
       "    </tr>\n",
       "    <tr>\n",
       "      <th>target2</th>\n",
       "      <th></th>\n",
       "      <th></th>\n",
       "      <th></th>\n",
       "      <th></th>\n",
       "      <th></th>\n",
       "      <th></th>\n",
       "      <th></th>\n",
       "      <th></th>\n",
       "      <th></th>\n",
       "      <th></th>\n",
       "      <th></th>\n",
       "      <th></th>\n",
       "      <th></th>\n",
       "      <th></th>\n",
       "      <th></th>\n",
       "      <th></th>\n",
       "      <th></th>\n",
       "      <th></th>\n",
       "      <th></th>\n",
       "      <th></th>\n",
       "      <th></th>\n",
       "      <th></th>\n",
       "      <th></th>\n",
       "      <th></th>\n",
       "      <th></th>\n",
       "      <th></th>\n",
       "      <th></th>\n",
       "      <th></th>\n",
       "      <th></th>\n",
       "      <th></th>\n",
       "      <th></th>\n",
       "      <th></th>\n",
       "      <th></th>\n",
       "      <th></th>\n",
       "      <th></th>\n",
       "      <th></th>\n",
       "      <th></th>\n",
       "    </tr>\n",
       "  </thead>\n",
       "  <tbody>\n",
       "    <tr>\n",
       "      <th>0.0000</th>\n",
       "      <td>2019-12-06 09:45:00</td>\n",
       "      <td>0.0000</td>\n",
       "      <td>3.0000</td>\n",
       "      <td>0.0000</td>\n",
       "      <td>1.0000</td>\n",
       "      <td>0.0000</td>\n",
       "      <td>2019-12-05</td>\n",
       "      <td>0.0000</td>\n",
       "      <td>0</td>\n",
       "      <td>88.0000</td>\n",
       "      <td>F</td>\n",
       "      <td>0.0000</td>\n",
       "      <td>0.0000</td>\n",
       "      <td>0.0000</td>\n",
       "      <td>0.0000</td>\n",
       "      <td>14</td>\n",
       "      <td>2017-08-07</td>\n",
       "      <td>0.0000</td>\n",
       "      <td>0.0000</td>\n",
       "      <td>1.0000</td>\n",
       "      <td>0.0000</td>\n",
       "      <td>0.0000</td>\n",
       "      <td>0.0000</td>\n",
       "      <td>0.0000</td>\n",
       "      <td>0.0000</td>\n",
       "      <td>0.0000</td>\n",
       "      <td>0.0000</td>\n",
       "      <td>0.0000</td>\n",
       "      <td>1.0000</td>\n",
       "      <td>0.0000</td>\n",
       "      <td>0.0000</td>\n",
       "      <td>0.0000</td>\n",
       "      <td>0.0000</td>\n",
       "      <td>0</td>\n",
       "      <td>0.0000</td>\n",
       "      <td>0.0000</td>\n",
       "      <td>1.0000</td>\n",
       "    </tr>\n",
       "    <tr>\n",
       "      <th>1.0000</th>\n",
       "      <td>2020-01-08 09:48:00</td>\n",
       "      <td>1.0000</td>\n",
       "      <td>3.0000</td>\n",
       "      <td>0.0000</td>\n",
       "      <td>1.0000</td>\n",
       "      <td>0.0000</td>\n",
       "      <td>2019-12-05</td>\n",
       "      <td>0.0000</td>\n",
       "      <td>0</td>\n",
       "      <td>88.0000</td>\n",
       "      <td>F</td>\n",
       "      <td>0.0000</td>\n",
       "      <td>0.0000</td>\n",
       "      <td>0.0000</td>\n",
       "      <td>0.0000</td>\n",
       "      <td>14</td>\n",
       "      <td>2017-08-07</td>\n",
       "      <td>0.0000</td>\n",
       "      <td>0.0000</td>\n",
       "      <td>1.0000</td>\n",
       "      <td>0.0000</td>\n",
       "      <td>0.0000</td>\n",
       "      <td>0.0000</td>\n",
       "      <td>0.0000</td>\n",
       "      <td>0.0000</td>\n",
       "      <td>0.0000</td>\n",
       "      <td>0.0000</td>\n",
       "      <td>0.0000</td>\n",
       "      <td>1.0000</td>\n",
       "      <td>0.0000</td>\n",
       "      <td>0.0000</td>\n",
       "      <td>0.0000</td>\n",
       "      <td>0.0000</td>\n",
       "      <td>0</td>\n",
       "      <td>0.0000</td>\n",
       "      <td>0.0000</td>\n",
       "      <td>1.0000</td>\n",
       "    </tr>\n",
       "  </tbody>\n",
       "</table>\n",
       "</div>"
      ],
      "text/plain": [
       "                FechaSaldos  periodo_cli  cant_productos  cant_PF  cant_TC  \\\n",
       "target2                                                                      \n",
       "0.0000  2019-12-06 09:45:00       0.0000          3.0000   0.0000   1.0000   \n",
       "1.0000  2020-01-08 09:48:00       1.0000          3.0000   0.0000   1.0000   \n",
       "\n",
       "         cant_PP FechaUltMovCA  cant_seguros  importe_consumos    Edad Sexo  \\\n",
       "target2                                                                       \n",
       "0.0000    0.0000    2019-12-05        0.0000                 0 88.0000    F   \n",
       "1.0000    0.0000    2019-12-05        0.0000                 0 88.0000    F   \n",
       "\n",
       "         SaldoPromedioCAPesos  SaldoPromedioCADolares  \\\n",
       "target2                                                 \n",
       "0.0000                 0.0000                  0.0000   \n",
       "1.0000                 0.0000                  0.0000   \n",
       "\n",
       "         SaldoPromedioCCAcreedor  TotalConsumoTD  CategoriaProducto  \\\n",
       "target2                                                               \n",
       "0.0000                    0.0000          0.0000                 14   \n",
       "1.0000                    0.0000          0.0000                 14   \n",
       "\n",
       "        FechaVinculacion  cuotas_faltantes_1  cant_PF_ant_1  cant_TC_ant_1  \\\n",
       "target2                                                                      \n",
       "0.0000        2017-08-07              0.0000         0.0000         1.0000   \n",
       "1.0000        2017-08-07              0.0000         0.0000         1.0000   \n",
       "\n",
       "         cant_PP_ant_1  SaldoPromedioCAPesos_ant_1  \\\n",
       "target2                                              \n",
       "0.0000          0.0000                      0.0000   \n",
       "1.0000          0.0000                      0.0000   \n",
       "\n",
       "         SaldoPromedioCADolares_ant_1  SaldoPromedioCCAcreedor_ant_1  \\\n",
       "target2                                                                \n",
       "0.0000                         0.0000                         0.0000   \n",
       "1.0000                         0.0000                         0.0000   \n",
       "\n",
       "         importe_consumos_ant_1  TotalConsumoTD_ant_1  cuotas_faltantes  \\\n",
       "target2                                                                   \n",
       "0.0000                   0.0000                0.0000            0.0000   \n",
       "1.0000                   0.0000                0.0000            0.0000   \n",
       "\n",
       "         cant_PF_ant_2  cant_TC_ant_2  cant_PP_ant_2  \\\n",
       "target2                                                \n",
       "0.0000          0.0000         1.0000         0.0000   \n",
       "1.0000          0.0000         1.0000         0.0000   \n",
       "\n",
       "         SaldoPromedioCAPesos_ant_2  SaldoPromedioCADolares_ant_2  \\\n",
       "target2                                                             \n",
       "0.0000                       0.0000                        0.0000   \n",
       "1.0000                       0.0000                        0.0000   \n",
       "\n",
       "         SaldoPromedioCCAcreedor_ant_2  importe_consumos_ant_2  \\\n",
       "target2                                                          \n",
       "0.0000                          0.0000                       0   \n",
       "1.0000                          0.0000                       0   \n",
       "\n",
       "         TotalConsumoTD_ant_2  cuotas_faltantes_2  score_deuda  \n",
       "target2                                                         \n",
       "0.0000                 0.0000              0.0000       1.0000  \n",
       "1.0000                 0.0000              0.0000       1.0000  "
      ]
     },
     "execution_count": 120,
     "metadata": {},
     "output_type": "execute_result"
    }
   ],
   "source": [
    "data.groupby('target2').agg(lambda x:x.value_counts().index[0])"
   ]
  },
  {
   "cell_type": "code",
   "execution_count": 121,
   "metadata": {
    "colab": {},
    "colab_type": "code",
    "executionInfo": {
     "elapsed": 2132,
     "status": "aborted",
     "timestamp": 1593785642415,
     "user": {
      "displayName": "Juan Finello",
      "photoUrl": "https://lh3.googleusercontent.com/a-/AOh14GhkEe8FcNn5ElS7591yV3nI_9MC8Yuo4NSdmGfowQ=s64",
      "userId": "01899113154645049238"
     },
     "user_tz": 180
    },
    "id": "6YCJdiG4BFYS"
   },
   "outputs": [
    {
     "data": {
      "text/plain": [
       "0.0000    240429\n",
       "1.0000    229813\n",
       "2.0000     13870\n",
       "Name: periodo_cli, dtype: int64"
      ]
     },
     "execution_count": 121,
     "metadata": {},
     "output_type": "execute_result"
    }
   ],
   "source": [
    "# periodo_cli\n",
    "\n",
    "data['periodo_cli'].value_counts()"
   ]
  },
  {
   "cell_type": "code",
   "execution_count": 122,
   "metadata": {
    "colab": {},
    "colab_type": "code",
    "executionInfo": {
     "elapsed": 2062,
     "status": "aborted",
     "timestamp": 1593785642415,
     "user": {
      "displayName": "Juan Finello",
      "photoUrl": "https://lh3.googleusercontent.com/a-/AOh14GhkEe8FcNn5ElS7591yV3nI_9MC8Yuo4NSdmGfowQ=s64",
      "userId": "01899113154645049238"
     },
     "user_tz": 180
    },
    "id": "jWJMkS3UBFYW"
   },
   "outputs": [
    {
     "data": {
      "text/plain": [
       "Text(0, 0.5, 'Frequency ')"
      ]
     },
     "execution_count": 122,
     "metadata": {},
     "output_type": "execute_result"
    },
    {
     "data": {
      "image/png": "[encoded data removed]",
      "text/plain": [
       "<Figure size 432x288 with 1 Axes>"
      ]
     },
     "metadata": {
      "needs_background": "light"
     },
     "output_type": "display_data"
    }
   ],
   "source": [
    "# periodo_cli\n",
    "\n",
    "%matplotlib inline\n",
    "pd.crosstab(data.periodo_cli, data.target2).plot(kind='bar')\n",
    "plt.title('Frequencia para period_cli para quienes abren el email:1 y quienes no abren:0')\n",
    "plt.xlabel('target2')\n",
    "plt.ylabel('Frequency ')\n",
    "\n"
   ]
  },
  {
   "cell_type": "code",
   "execution_count": 123,
   "metadata": {
    "colab": {
     "base_uri": "https://localhost:8080/",
     "height": 231
    },
    "colab_type": "code",
    "executionInfo": {
     "elapsed": 861,
     "status": "error",
     "timestamp": 1593785646974,
     "user": {
      "displayName": "Juan Finello",
      "photoUrl": "https://lh3.googleusercontent.com/a-/AOh14GhkEe8FcNn5ElS7591yV3nI_9MC8Yuo4NSdmGfowQ=s64",
      "userId": "01899113154645049238"
     },
     "user_tz": 180
    },
    "id": "RdecGHqvBFYc",
    "outputId": "7b94bba9-cdcc-472b-bdcc-869a142a8592",
    "scrolled": true
   },
   "outputs": [
    {
     "data": {
      "text/plain": [
       "<matplotlib.legend.Legend at 0x7f04bd30cbd0>"
      ]
     },
     "execution_count": 123,
     "metadata": {},
     "output_type": "execute_result"
    },
    {
     "data": {
      "image/png": "[encoded data removed]",
      "text/plain": [
       "<Figure size 504x504 with 1 Axes>"
      ]
     },
     "metadata": {
      "needs_background": "light"
     },
     "output_type": "display_data"
    }
   ],
   "source": [
    "# importe_consumos\n",
    "\n",
    "\n",
    "pivot = pd.pivot_table(data=data,\n",
    "               index=['importe_consumos'],\n",
    "                columns=['target2'],\n",
    "               aggfunc=['size']\n",
    "              )\n",
    "\n",
    "\n",
    "\n",
    "fig = plt.figure(figsize = (7,7))\n",
    "\n",
    "sns.distplot(pivot[('size', 0)], bins= 60, label = 'No abre')\n",
    "sns.distplot(pivot[('size', 1)], bins= 60, label = 'Abre')\n",
    "\n",
    "plt.title('Distribucion del importe de consumo entre target 0 y 1', fontsize=18)\n",
    "plt.xlabel('', fontsize=16)\n",
    "plt.ylabel('', fontsize=16)\n",
    "plt.legend(prop={'size': 12})"
   ]
  },
  {
   "cell_type": "code",
   "execution_count": 124,
   "metadata": {
    "colab": {},
    "colab_type": "code",
    "executionInfo": {
     "elapsed": 681,
     "status": "aborted",
     "timestamp": 1593785646973,
     "user": {
      "displayName": "Juan Finello",
      "photoUrl": "https://lh3.googleusercontent.com/a-/AOh14GhkEe8FcNn5ElS7591yV3nI_9MC8Yuo4NSdmGfowQ=s64",
      "userId": "01899113154645049238"
     },
     "user_tz": 180
    },
    "id": "bdFiqkB3BFYg"
   },
   "outputs": [
    {
     "data": {
      "text/plain": [
       "<matplotlib.legend.Legend at 0x7f04bdb49450>"
      ]
     },
     "execution_count": 124,
     "metadata": {},
     "output_type": "execute_result"
    },
    {
     "data": {
      "image/png": "[encoded data removed]",
      "text/plain": [
       "<Figure size 504x504 with 1 Axes>"
      ]
     },
     "metadata": {
      "needs_background": "light"
     },
     "output_type": "display_data"
    }
   ],
   "source": [
    "# excluimos las instancias de importe_consumo = 0 \n",
    "\n",
    "pivot1 = pivot[pivot.index != 0]\n",
    "pivot1\n",
    "\n",
    "\n",
    "fig = plt.figure(figsize = (7,7))\n",
    "\n",
    "sns.distplot(pivot1[('size', 0)], bins= 60, label = 'No abre')\n",
    "sns.distplot(pivot1[('size', 1)], bins= 60, label = 'Abre')\n",
    "\n",
    "plt.title('Distribucion del importe de consumo entre target 0 y 1', fontsize=18)\n",
    "plt.xlabel('', fontsize=16)\n",
    "plt.ylabel('', fontsize=16)\n",
    "plt.legend(prop={'size': 12})"
   ]
  },
  {
   "cell_type": "markdown",
   "metadata": {
    "colab_type": "text",
    "id": "6OSKXekYBFYt"
   },
   "source": [
    "### Ingenieria de variables "
   ]
  },
  {
   "cell_type": "code",
   "execution_count": 125,
   "metadata": {},
   "outputs": [],
   "source": [
    "# Seleccionamos las columnas de tipo categoricas\n",
    "\n",
    "data_cols_cat = data.select_dtypes(exclude=np.number) "
   ]
  },
  {
   "cell_type": "code",
   "execution_count": 126,
   "metadata": {},
   "outputs": [
    {
     "data": {
      "text/plain": [
       "81592    1990-01-01\n",
       "469927   1990-01-01\n",
       "338536   1990-01-01\n",
       "229128   1990-01-01\n",
       "462236   1990-01-01\n",
       "Name: FechaVinculacion, dtype: datetime64[ns]"
      ]
     },
     "execution_count": 126,
     "metadata": {},
     "output_type": "execute_result"
    }
   ],
   "source": [
    "# data_cols_cat['FechaSaldos'].sort_values(ascending= True).head(5)\n",
    "\n",
    "data_cols_cat['FechaVinculacion'].sort_values(ascending= True).head(5)"
   ]
  },
  {
   "cell_type": "markdown",
   "metadata": {},
   "source": [
    "#### Nueva variable : Antiguedad"
   ]
  },
  {
   "cell_type": "code",
   "execution_count": 127,
   "metadata": {},
   "outputs": [],
   "source": [
    "# Calculamos los AÑOS desde la vinculacion a la empresa hasta la actualidad\n",
    "\n",
    "data['antiguedad']=(data.FechaVinculacion.dt.year - datetime(2020,2,10).year)*-1"
   ]
  },
  {
   "cell_type": "code",
   "execution_count": 128,
   "metadata": {},
   "outputs": [],
   "source": [
    "data.drop(columns='FechaVinculacion',inplace=True)"
   ]
  },
  {
   "cell_type": "code",
   "execution_count": 129,
   "metadata": {},
   "outputs": [
    {
     "data": {
      "text/plain": [
       "Text(0.5, 1.0, 'Distribucion de antiguedad por grupo')"
      ]
     },
     "execution_count": 129,
     "metadata": {},
     "output_type": "execute_result"
    },
    {
     "data": {
      "image/png": "[encoded data removed]",
      "text/plain": [
       "<Figure size 1080x504 with 1 Axes>"
      ]
     },
     "metadata": {
      "needs_background": "light"
     },
     "output_type": "display_data"
    }
   ],
   "source": [
    "\n",
    "pd.crosstab(data.antiguedad, data.target2).plot(kind='bar', figsize = (15,7))\n",
    "plt.title('Distribucion de antiguedad por grupo')"
   ]
  },
  {
   "cell_type": "markdown",
   "metadata": {},
   "source": [
    "#### Nueva variable : 'Dias desde ultimo movimiento'"
   ]
  },
  {
   "cell_type": "code",
   "execution_count": 130,
   "metadata": {},
   "outputs": [
    {
     "data": {
      "text/plain": [
       "208739   2004-04-19\n",
       "442443   2004-04-19\n",
       "282378   2004-06-30\n",
       "444424   2005-02-24\n",
       "210719   2005-02-24\n",
       "Name: FechaUltMovCA, dtype: datetime64[ns]"
      ]
     },
     "execution_count": 130,
     "metadata": {},
     "output_type": "execute_result"
    }
   ],
   "source": [
    "data_cols_cat['FechaUltMovCA'].sort_values(ascending= True).head(5)"
   ]
  },
  {
   "cell_type": "code",
   "execution_count": 131,
   "metadata": {},
   "outputs": [
    {
     "data": {
      "text/plain": [
       "Text(0.5, 1.0, 'Dias desde ùltimo movimiento')"
      ]
     },
     "execution_count": 131,
     "metadata": {},
     "output_type": "execute_result"
    },
    {
     "data": {
      "image/png": "[encoded data removed]",
      "text/plain": [
       "<Figure size 432x288 with 1 Axes>"
      ]
     },
     "metadata": {
      "needs_background": "light"
     },
     "output_type": "display_data"
    }
   ],
   "source": [
    "data_cols_cat['FechaUltMovCA'].hist(bins=100)\n",
    "plt.title('Dias desde ùltimo movimiento')"
   ]
  },
  {
   "cell_type": "code",
   "execution_count": 132,
   "metadata": {},
   "outputs": [],
   "source": [
    "# Diferencia entre la fecha de ultimo movimiento y la fecha actual\n",
    "\n",
    "data['DiasDesdeMov']=((data.FechaUltMovCA.dt.date - datetime(2020,2,10).date())*-1).dt.days \n"
   ]
  },
  {
   "cell_type": "code",
   "execution_count": 133,
   "metadata": {},
   "outputs": [],
   "source": [
    "data = data.drop(['FechaUltMovCA'],axis=1)"
   ]
  },
  {
   "cell_type": "code",
   "execution_count": 134,
   "metadata": {
    "scrolled": true
   },
   "outputs": [
    {
     "data": {
      "text/plain": [
       "67     0.2577\n",
       "68     0.0782\n",
       "360    0.0669\n",
       "69     0.0460\n",
       "70     0.0443\n",
       "        ...  \n",
       "2896   0.0000\n",
       "1715   0.0000\n",
       "2078   0.0000\n",
       "2132   0.0000\n",
       "3070   0.0000\n",
       "Name: DiasDesdeMov, Length: 971, dtype: float64"
      ]
     },
     "execution_count": 134,
     "metadata": {},
     "output_type": "execute_result"
    }
   ],
   "source": [
    "data['DiasDesdeMov'].value_counts(normalize = True)\n"
   ]
  },
  {
   "cell_type": "code",
   "execution_count": 135,
   "metadata": {},
   "outputs": [],
   "source": [
    "# Transformamos los outliers de esta nueva variable\n",
    "\n",
    "cambiar(data, 'DiasDesdeMov')"
   ]
  },
  {
   "cell_type": "code",
   "execution_count": 136,
   "metadata": {},
   "outputs": [
    {
     "data": {
      "text/plain": [
       "<matplotlib.legend.Legend at 0x7f04bdb68b10>"
      ]
     },
     "execution_count": 136,
     "metadata": {},
     "output_type": "execute_result"
    },
    {
     "data": {
      "image/png": "[encoded data removed]",
      "text/plain": [
       "<Figure size 1080x504 with 1 Axes>"
      ]
     },
     "metadata": {
      "needs_background": "light"
     },
     "output_type": "display_data"
    }
   ],
   "source": [
    "pivote = pd.pivot_table(data=data,\n",
    "               index=['DiasDesdeMov'],\n",
    "                columns=['target2'],\n",
    "               aggfunc=['size']\n",
    "              )\n",
    "\n",
    "\n",
    "\n",
    "fig = plt.figure(figsize = (15,7))\n",
    "\n",
    "sns.distplot(pivote[('size', 0)], bins= 70, label = 'No abre')\n",
    "sns.distplot(pivote[('size', 1)], bins= 70, label = 'Abre')\n",
    "\n",
    "plt.title('Dias desde ùltimo movimiento', fontsize=18)\n",
    "plt.xlabel('', fontsize=16)\n",
    "plt.ylabel('', fontsize=16)\n",
    "plt.legend(prop={'size': 12})"
   ]
  },
  {
   "cell_type": "code",
   "execution_count": 137,
   "metadata": {},
   "outputs": [],
   "source": [
    "#Eliminamos la columna FechaSaldos porque es irrelevante para el analisis \n",
    "\n",
    "data['FechaSaldos'].sort_values(ascending=False)\n",
    "data = data.drop(['FechaSaldos'],axis=1)"
   ]
  },
  {
   "cell_type": "markdown",
   "metadata": {},
   "source": [
    "### Transformacion de variables categoricas "
   ]
  },
  {
   "cell_type": "code",
   "execution_count": 138,
   "metadata": {},
   "outputs": [],
   "source": [
    "# Transformamos la variable sexo en dos variables dummy para posterior incorporacion al modelo de regresion.\n",
    "\n",
    "data = pd.concat([data,pd.get_dummies(data.Sexo),pd.get_dummies(data.CategoriaProducto)],axis=1)"
   ]
  },
  {
   "cell_type": "code",
   "execution_count": 139,
   "metadata": {},
   "outputs": [],
   "source": [
    "data = data.drop(['CategoriaProducto','Sexo'],axis=1)"
   ]
  },
  {
   "cell_type": "code",
   "execution_count": 140,
   "metadata": {},
   "outputs": [],
   "source": [
    "# Tranformamos la variable de categoria de producto tambin en dummies\n",
    "\n",
    "data['CategoriaProducto_10'] = data[10]\n",
    "data['CategoriaProducto_12'] = data[12]\n",
    "data['CategoriaProducto_14'] = data[14]\n",
    "data['CategoriaProducto_19'] = data[19]\n",
    "data['CategoriaProducto_28'] = data[28]\n",
    "data['CategoriaProducto_OTRAS'] = data['OTRAS']"
   ]
  },
  {
   "cell_type": "code",
   "execution_count": 141,
   "metadata": {},
   "outputs": [],
   "source": [
    "data['Sexo_M'] = data['M']"
   ]
  },
  {
   "cell_type": "code",
   "execution_count": 142,
   "metadata": {},
   "outputs": [],
   "source": [
    "data['Sexo_F'] = data['F']"
   ]
  },
  {
   "cell_type": "code",
   "execution_count": 143,
   "metadata": {},
   "outputs": [],
   "source": [
    "data = data.drop([10,12,14,19,28,'OTRAS','M','F'],axis=1)"
   ]
  },
  {
   "cell_type": "code",
   "execution_count": 144,
   "metadata": {},
   "outputs": [
    {
     "name": "stdout",
     "output_type": "stream",
     "text": [
      "Calculating cant_PF\n",
      "Calculating cant_TC\n",
      "Calculating cant_PP\n",
      "Calculating importe_consumos\n",
      "Calculating SaldoPromedioCAPesos\n",
      "Calculating SaldoPromedioCADolares\n",
      "Calculating SaldoPromedioCCAcreedor\n",
      "Calculating TotalConsumoTD\n"
     ]
    }
   ],
   "source": [
    "# Creamos nuevas variables calculando la media de aquellas que tienen una division temporal\n",
    "\n",
    "for col in data.columns:\n",
    "    if col+'_ant_1' in data.columns:\n",
    "        print(\"Calculating %s\" % col)\n",
    "        data[col+'_mean']=data[[col,col+'_ant_1',col+'_ant_2']].mean(axis=1)"
   ]
  },
  {
   "cell_type": "markdown",
   "metadata": {},
   "source": [
    "### Interaccion entre variables "
   ]
  },
  {
   "cell_type": "code",
   "execution_count": 145,
   "metadata": {
    "colab": {
     "base_uri": "https://localhost:8080/",
     "height": 864
    },
    "colab_type": "code",
    "executionInfo": {
     "elapsed": 1228,
     "status": "error",
     "timestamp": 1593785647736,
     "user": {
      "displayName": "Juan Finello",
      "photoUrl": "https://lh3.googleusercontent.com/a-/AOh14GhkEe8FcNn5ElS7591yV3nI_9MC8Yuo4NSdmGfowQ=s64",
      "userId": "01899113154645049238"
     },
     "user_tz": 180
    },
    "id": "k-1c6cc-BFYi",
    "outputId": "e5998b1c-2b03-492a-8f87-ee73e8f426cd",
    "scrolled": true
   },
   "outputs": [
    {
     "data": {
      "text/plain": [
       "<matplotlib.axes._subplots.AxesSubplot at 0x7f04bd38e250>"
      ]
     },
     "execution_count": 145,
     "metadata": {},
     "output_type": "execute_result"
    },
    {
     "data": {
      "image/png": "[encoded data removed]",
      "text/plain": [
       "<Figure size 936x792 with 2 Axes>"
      ]
     },
     "metadata": {
      "needs_background": "light"
     },
     "output_type": "display_data"
    }
   ],
   "source": [
    "\n",
    "# Estudiamos la interaccion entre las variables \n",
    "# Definimos el min y max de correlacion a 75 %\n",
    "\n",
    "f, ax = plt.subplots(figsize=(13, 11))\n",
    "corr = data.corr()\n",
    "\n",
    "\n",
    "sns.heatmap(corr, mask=np.zeros_like(corr, dtype=np.bool), cmap=sns.diverging_palette(220, 10, as_cmap=True),\n",
    "               square=True, ax=ax, annot=False, vmin=-0.75, vmax=0.75,)\n"
   ]
  },
  {
   "cell_type": "markdown",
   "metadata": {},
   "source": [
    "# Preparacion de los datos para modelar la regresion logistica"
   ]
  },
  {
   "cell_type": "code",
   "execution_count": 146,
   "metadata": {
    "scrolled": true
   },
   "outputs": [],
   "source": [
    "### Selecionamos las variables que por su interaccion con el target vamos a probar en el modelo de reg logistica\n",
    "\n",
    "variables = ['periodo_cli', 'Edad', 'cant_productos', 'cant_PF', 'cant_TC', 'cant_PP','SaldoPromedioCAPesos','SaldoPromedioCADolares','SaldoPromedioCAPesos_ant_2','SaldoPromedioCADolares_ant_2','score_deuda','target2', 'antiguedad', 'DiasDesdeMov','CategoriaProducto_10', 'CategoriaProducto_12','CategoriaProducto_14','CategoriaProducto_19','CategoriaProducto_28','CategoriaProducto_OTRAS', 'Sexo_M', 'Sexo_F','target2']"
   ]
  },
  {
   "cell_type": "code",
   "execution_count": 147,
   "metadata": {},
   "outputs": [
    {
     "data": {
      "text/html": [
       "<div>\n",
       "<style scoped>\n",
       "    .dataframe tbody tr th:only-of-type {\n",
       "        vertical-align: middle;\n",
       "    }\n",
       "\n",
       "    .dataframe tbody tr th {\n",
       "        vertical-align: top;\n",
       "    }\n",
       "\n",
       "    .dataframe thead th {\n",
       "        text-align: right;\n",
       "    }\n",
       "</style>\n",
       "<table border=\"1\" class=\"dataframe\">\n",
       "  <thead>\n",
       "    <tr style=\"text-align: right;\">\n",
       "      <th></th>\n",
       "      <th>periodo_cli</th>\n",
       "      <th>cant_productos</th>\n",
       "      <th>cant_PF</th>\n",
       "      <th>cant_TC</th>\n",
       "      <th>cant_PP</th>\n",
       "      <th>Edad</th>\n",
       "      <th>SaldoPromedioCAPesos</th>\n",
       "      <th>SaldoPromedioCADolares</th>\n",
       "      <th>SaldoPromedioCAPesos_ant_2</th>\n",
       "      <th>SaldoPromedioCADolares_ant_2</th>\n",
       "      <th>score_deuda</th>\n",
       "      <th>target2</th>\n",
       "      <th>antiguedad</th>\n",
       "      <th>DiasDesdeMov</th>\n",
       "      <th>CategoriaProducto_10</th>\n",
       "      <th>CategoriaProducto_12</th>\n",
       "      <th>CategoriaProducto_14</th>\n",
       "      <th>CategoriaProducto_19</th>\n",
       "      <th>CategoriaProducto_28</th>\n",
       "      <th>CategoriaProducto_OTRAS</th>\n",
       "      <th>Sexo_M</th>\n",
       "      <th>Sexo_F</th>\n",
       "    </tr>\n",
       "  </thead>\n",
       "  <tbody>\n",
       "    <tr>\n",
       "      <th>0</th>\n",
       "      <td>0.0000</td>\n",
       "      <td>2.0000</td>\n",
       "      <td>0.0000</td>\n",
       "      <td>0.0000</td>\n",
       "      <td>0.0000</td>\n",
       "      <td>68.0000</td>\n",
       "      <td>6784.5000</td>\n",
       "      <td>0.0000</td>\n",
       "      <td>9440.5600</td>\n",
       "      <td>0.0000</td>\n",
       "      <td>1.0000</td>\n",
       "      <td>0.0000</td>\n",
       "      <td>3</td>\n",
       "      <td>70.0000</td>\n",
       "      <td>0</td>\n",
       "      <td>1</td>\n",
       "      <td>0</td>\n",
       "      <td>0</td>\n",
       "      <td>0</td>\n",
       "      <td>0</td>\n",
       "      <td>1</td>\n",
       "      <td>0</td>\n",
       "    </tr>\n",
       "    <tr>\n",
       "      <th>1</th>\n",
       "      <td>0.0000</td>\n",
       "      <td>1.0000</td>\n",
       "      <td>0.0000</td>\n",
       "      <td>0.0000</td>\n",
       "      <td>0.0000</td>\n",
       "      <td>67.0000</td>\n",
       "      <td>9231.1000</td>\n",
       "      <td>0.0000</td>\n",
       "      <td>5029.5900</td>\n",
       "      <td>0.0000</td>\n",
       "      <td>1.0000</td>\n",
       "      <td>0.0000</td>\n",
       "      <td>5</td>\n",
       "      <td>68.0000</td>\n",
       "      <td>0</td>\n",
       "      <td>1</td>\n",
       "      <td>0</td>\n",
       "      <td>0</td>\n",
       "      <td>0</td>\n",
       "      <td>0</td>\n",
       "      <td>0</td>\n",
       "      <td>1</td>\n",
       "    </tr>\n",
       "    <tr>\n",
       "      <th>2</th>\n",
       "      <td>0.0000</td>\n",
       "      <td>1.0000</td>\n",
       "      <td>0.0000</td>\n",
       "      <td>0.0000</td>\n",
       "      <td>0.0000</td>\n",
       "      <td>68.0000</td>\n",
       "      <td>47496.6100</td>\n",
       "      <td>0.0000</td>\n",
       "      <td>50156.3200</td>\n",
       "      <td>0.0000</td>\n",
       "      <td>0.0000</td>\n",
       "      <td>0.0000</td>\n",
       "      <td>3</td>\n",
       "      <td>67.0000</td>\n",
       "      <td>0</td>\n",
       "      <td>1</td>\n",
       "      <td>0</td>\n",
       "      <td>0</td>\n",
       "      <td>0</td>\n",
       "      <td>0</td>\n",
       "      <td>0</td>\n",
       "      <td>1</td>\n",
       "    </tr>\n",
       "    <tr>\n",
       "      <th>3</th>\n",
       "      <td>0.0000</td>\n",
       "      <td>6.0000</td>\n",
       "      <td>0.0000</td>\n",
       "      <td>3.0000</td>\n",
       "      <td>0.0000</td>\n",
       "      <td>68.0000</td>\n",
       "      <td>24806.5900</td>\n",
       "      <td>0.0000</td>\n",
       "      <td>26082.8500</td>\n",
       "      <td>0.0000</td>\n",
       "      <td>1.0000</td>\n",
       "      <td>0.0000</td>\n",
       "      <td>3</td>\n",
       "      <td>67.0000</td>\n",
       "      <td>0</td>\n",
       "      <td>1</td>\n",
       "      <td>0</td>\n",
       "      <td>0</td>\n",
       "      <td>0</td>\n",
       "      <td>0</td>\n",
       "      <td>0</td>\n",
       "      <td>1</td>\n",
       "    </tr>\n",
       "    <tr>\n",
       "      <th>4</th>\n",
       "      <td>0.0000</td>\n",
       "      <td>6.0000</td>\n",
       "      <td>1.0000</td>\n",
       "      <td>2.0000</td>\n",
       "      <td>0.0000</td>\n",
       "      <td>67.0000</td>\n",
       "      <td>75824.7800</td>\n",
       "      <td>470.0400</td>\n",
       "      <td>103080.4000</td>\n",
       "      <td>470.0400</td>\n",
       "      <td>0.0000</td>\n",
       "      <td>1.0000</td>\n",
       "      <td>3</td>\n",
       "      <td>67.0000</td>\n",
       "      <td>0</td>\n",
       "      <td>0</td>\n",
       "      <td>1</td>\n",
       "      <td>0</td>\n",
       "      <td>0</td>\n",
       "      <td>0</td>\n",
       "      <td>0</td>\n",
       "      <td>1</td>\n",
       "    </tr>\n",
       "    <tr>\n",
       "      <th>...</th>\n",
       "      <td>...</td>\n",
       "      <td>...</td>\n",
       "      <td>...</td>\n",
       "      <td>...</td>\n",
       "      <td>...</td>\n",
       "      <td>...</td>\n",
       "      <td>...</td>\n",
       "      <td>...</td>\n",
       "      <td>...</td>\n",
       "      <td>...</td>\n",
       "      <td>...</td>\n",
       "      <td>...</td>\n",
       "      <td>...</td>\n",
       "      <td>...</td>\n",
       "      <td>...</td>\n",
       "      <td>...</td>\n",
       "      <td>...</td>\n",
       "      <td>...</td>\n",
       "      <td>...</td>\n",
       "      <td>...</td>\n",
       "      <td>...</td>\n",
       "      <td>...</td>\n",
       "    </tr>\n",
       "    <tr>\n",
       "      <th>494804</th>\n",
       "      <td>2.0000</td>\n",
       "      <td>1.0000</td>\n",
       "      <td>0.0000</td>\n",
       "      <td>0.0000</td>\n",
       "      <td>0.0000</td>\n",
       "      <td>46.0000</td>\n",
       "      <td>0.0000</td>\n",
       "      <td>0.0000</td>\n",
       "      <td>0.0000</td>\n",
       "      <td>0.0000</td>\n",
       "      <td>0.0000</td>\n",
       "      <td>0.0000</td>\n",
       "      <td>4</td>\n",
       "      <td>4.0000</td>\n",
       "      <td>0</td>\n",
       "      <td>0</td>\n",
       "      <td>0</td>\n",
       "      <td>0</td>\n",
       "      <td>0</td>\n",
       "      <td>1</td>\n",
       "      <td>0</td>\n",
       "      <td>1</td>\n",
       "    </tr>\n",
       "    <tr>\n",
       "      <th>494845</th>\n",
       "      <td>2.0000</td>\n",
       "      <td>1.0000</td>\n",
       "      <td>0.0000</td>\n",
       "      <td>0.0000</td>\n",
       "      <td>0.0000</td>\n",
       "      <td>60.0000</td>\n",
       "      <td>0.0000</td>\n",
       "      <td>0.0000</td>\n",
       "      <td>0.0000</td>\n",
       "      <td>0.0000</td>\n",
       "      <td>0.0000</td>\n",
       "      <td>1.0000</td>\n",
       "      <td>2</td>\n",
       "      <td>4.0000</td>\n",
       "      <td>0</td>\n",
       "      <td>0</td>\n",
       "      <td>0</td>\n",
       "      <td>0</td>\n",
       "      <td>0</td>\n",
       "      <td>1</td>\n",
       "      <td>0</td>\n",
       "      <td>1</td>\n",
       "    </tr>\n",
       "    <tr>\n",
       "      <th>494872</th>\n",
       "      <td>2.0000</td>\n",
       "      <td>1.0000</td>\n",
       "      <td>0.0000</td>\n",
       "      <td>0.0000</td>\n",
       "      <td>0.0000</td>\n",
       "      <td>49.0000</td>\n",
       "      <td>0.0000</td>\n",
       "      <td>0.0000</td>\n",
       "      <td>0.0000</td>\n",
       "      <td>0.0000</td>\n",
       "      <td>0.0000</td>\n",
       "      <td>1.0000</td>\n",
       "      <td>5</td>\n",
       "      <td>4.0000</td>\n",
       "      <td>0</td>\n",
       "      <td>0</td>\n",
       "      <td>0</td>\n",
       "      <td>0</td>\n",
       "      <td>0</td>\n",
       "      <td>1</td>\n",
       "      <td>0</td>\n",
       "      <td>1</td>\n",
       "    </tr>\n",
       "    <tr>\n",
       "      <th>494873</th>\n",
       "      <td>2.0000</td>\n",
       "      <td>1.0000</td>\n",
       "      <td>0.0000</td>\n",
       "      <td>0.0000</td>\n",
       "      <td>0.0000</td>\n",
       "      <td>37.0000</td>\n",
       "      <td>0.0000</td>\n",
       "      <td>0.0000</td>\n",
       "      <td>0.0000</td>\n",
       "      <td>0.0000</td>\n",
       "      <td>1.0000</td>\n",
       "      <td>0.0000</td>\n",
       "      <td>4</td>\n",
       "      <td>140.0000</td>\n",
       "      <td>0</td>\n",
       "      <td>0</td>\n",
       "      <td>0</td>\n",
       "      <td>0</td>\n",
       "      <td>0</td>\n",
       "      <td>1</td>\n",
       "      <td>0</td>\n",
       "      <td>1</td>\n",
       "    </tr>\n",
       "    <tr>\n",
       "      <th>494881</th>\n",
       "      <td>2.0000</td>\n",
       "      <td>1.0000</td>\n",
       "      <td>0.0000</td>\n",
       "      <td>0.0000</td>\n",
       "      <td>0.0000</td>\n",
       "      <td>58.0000</td>\n",
       "      <td>0.0000</td>\n",
       "      <td>0.0000</td>\n",
       "      <td>0.0000</td>\n",
       "      <td>0.0000</td>\n",
       "      <td>0.0000</td>\n",
       "      <td>1.0000</td>\n",
       "      <td>4</td>\n",
       "      <td>4.0000</td>\n",
       "      <td>0</td>\n",
       "      <td>0</td>\n",
       "      <td>0</td>\n",
       "      <td>0</td>\n",
       "      <td>0</td>\n",
       "      <td>1</td>\n",
       "      <td>0</td>\n",
       "      <td>1</td>\n",
       "    </tr>\n",
       "  </tbody>\n",
       "</table>\n",
       "<p>484112 rows × 22 columns</p>\n",
       "</div>"
      ],
      "text/plain": [
       "        periodo_cli  cant_productos  cant_PF  cant_TC  cant_PP    Edad  \\\n",
       "0            0.0000          2.0000   0.0000   0.0000   0.0000 68.0000   \n",
       "1            0.0000          1.0000   0.0000   0.0000   0.0000 67.0000   \n",
       "2            0.0000          1.0000   0.0000   0.0000   0.0000 68.0000   \n",
       "3            0.0000          6.0000   0.0000   3.0000   0.0000 68.0000   \n",
       "4            0.0000          6.0000   1.0000   2.0000   0.0000 67.0000   \n",
       "...             ...             ...      ...      ...      ...     ...   \n",
       "494804       2.0000          1.0000   0.0000   0.0000   0.0000 46.0000   \n",
       "494845       2.0000          1.0000   0.0000   0.0000   0.0000 60.0000   \n",
       "494872       2.0000          1.0000   0.0000   0.0000   0.0000 49.0000   \n",
       "494873       2.0000          1.0000   0.0000   0.0000   0.0000 37.0000   \n",
       "494881       2.0000          1.0000   0.0000   0.0000   0.0000 58.0000   \n",
       "\n",
       "        SaldoPromedioCAPesos  SaldoPromedioCADolares  \\\n",
       "0                  6784.5000                  0.0000   \n",
       "1                  9231.1000                  0.0000   \n",
       "2                 47496.6100                  0.0000   \n",
       "3                 24806.5900                  0.0000   \n",
       "4                 75824.7800                470.0400   \n",
       "...                      ...                     ...   \n",
       "494804                0.0000                  0.0000   \n",
       "494845                0.0000                  0.0000   \n",
       "494872                0.0000                  0.0000   \n",
       "494873                0.0000                  0.0000   \n",
       "494881                0.0000                  0.0000   \n",
       "\n",
       "        SaldoPromedioCAPesos_ant_2  SaldoPromedioCADolares_ant_2  score_deuda  \\\n",
       "0                        9440.5600                        0.0000       1.0000   \n",
       "1                        5029.5900                        0.0000       1.0000   \n",
       "2                       50156.3200                        0.0000       0.0000   \n",
       "3                       26082.8500                        0.0000       1.0000   \n",
       "4                      103080.4000                      470.0400       0.0000   \n",
       "...                            ...                           ...          ...   \n",
       "494804                      0.0000                        0.0000       0.0000   \n",
       "494845                      0.0000                        0.0000       0.0000   \n",
       "494872                      0.0000                        0.0000       0.0000   \n",
       "494873                      0.0000                        0.0000       1.0000   \n",
       "494881                      0.0000                        0.0000       0.0000   \n",
       "\n",
       "        target2  antiguedad  DiasDesdeMov  CategoriaProducto_10  \\\n",
       "0        0.0000           3       70.0000                     0   \n",
       "1        0.0000           5       68.0000                     0   \n",
       "2        0.0000           3       67.0000                     0   \n",
       "3        0.0000           3       67.0000                     0   \n",
       "4        1.0000           3       67.0000                     0   \n",
       "...         ...         ...           ...                   ...   \n",
       "494804   0.0000           4        4.0000                     0   \n",
       "494845   1.0000           2        4.0000                     0   \n",
       "494872   1.0000           5        4.0000                     0   \n",
       "494873   0.0000           4      140.0000                     0   \n",
       "494881   1.0000           4        4.0000                     0   \n",
       "\n",
       "        CategoriaProducto_12  CategoriaProducto_14  CategoriaProducto_19  \\\n",
       "0                          1                     0                     0   \n",
       "1                          1                     0                     0   \n",
       "2                          1                     0                     0   \n",
       "3                          1                     0                     0   \n",
       "4                          0                     1                     0   \n",
       "...                      ...                   ...                   ...   \n",
       "494804                     0                     0                     0   \n",
       "494845                     0                     0                     0   \n",
       "494872                     0                     0                     0   \n",
       "494873                     0                     0                     0   \n",
       "494881                     0                     0                     0   \n",
       "\n",
       "        CategoriaProducto_28  CategoriaProducto_OTRAS  Sexo_M  Sexo_F  \n",
       "0                          0                        0       1       0  \n",
       "1                          0                        0       0       1  \n",
       "2                          0                        0       0       1  \n",
       "3                          0                        0       0       1  \n",
       "4                          0                        0       0       1  \n",
       "...                      ...                      ...     ...     ...  \n",
       "494804                     0                        1       0       1  \n",
       "494845                     0                        1       0       1  \n",
       "494872                     0                        1       0       1  \n",
       "494873                     0                        1       0       1  \n",
       "494881                     0                        1       0       1  \n",
       "\n",
       "[484112 rows x 22 columns]"
      ]
     },
     "execution_count": 147,
     "metadata": {},
     "output_type": "execute_result"
    }
   ],
   "source": [
    "data = data.drop(columns=[col for col in data if col not in variables])\n",
    "data"
   ]
  },
  {
   "cell_type": "markdown",
   "metadata": {},
   "source": [
    "# Escalado de variables "
   ]
  },
  {
   "cell_type": "code",
   "execution_count": 148,
   "metadata": {},
   "outputs": [
    {
     "data": {
      "text/plain": [
       "0        0.0000\n",
       "1        0.0000\n",
       "2        0.0000\n",
       "3        0.0000\n",
       "4        1.0000\n",
       "          ...  \n",
       "494804   0.0000\n",
       "494845   1.0000\n",
       "494872   1.0000\n",
       "494873   0.0000\n",
       "494881   1.0000\n",
       "Name: target2, Length: 484112, dtype: float64"
      ]
     },
     "execution_count": 148,
     "metadata": {},
     "output_type": "execute_result"
    }
   ],
   "source": [
    "### Primero dividimos el data set en X (matriz de variables imput) e y (target)\n",
    "\n",
    "y = data['target2']\n",
    "y"
   ]
  },
  {
   "cell_type": "code",
   "execution_count": 149,
   "metadata": {},
   "outputs": [
    {
     "data": {
      "text/html": [
       "<div>\n",
       "<style scoped>\n",
       "    .dataframe tbody tr th:only-of-type {\n",
       "        vertical-align: middle;\n",
       "    }\n",
       "\n",
       "    .dataframe tbody tr th {\n",
       "        vertical-align: top;\n",
       "    }\n",
       "\n",
       "    .dataframe thead th {\n",
       "        text-align: right;\n",
       "    }\n",
       "</style>\n",
       "<table border=\"1\" class=\"dataframe\">\n",
       "  <thead>\n",
       "    <tr style=\"text-align: right;\">\n",
       "      <th></th>\n",
       "      <th>periodo_cli</th>\n",
       "      <th>cant_productos</th>\n",
       "      <th>cant_PF</th>\n",
       "      <th>cant_TC</th>\n",
       "      <th>cant_PP</th>\n",
       "      <th>Edad</th>\n",
       "      <th>SaldoPromedioCAPesos</th>\n",
       "      <th>SaldoPromedioCADolares</th>\n",
       "      <th>SaldoPromedioCAPesos_ant_2</th>\n",
       "      <th>SaldoPromedioCADolares_ant_2</th>\n",
       "      <th>score_deuda</th>\n",
       "      <th>antiguedad</th>\n",
       "      <th>DiasDesdeMov</th>\n",
       "      <th>CategoriaProducto_10</th>\n",
       "      <th>CategoriaProducto_12</th>\n",
       "      <th>CategoriaProducto_14</th>\n",
       "      <th>CategoriaProducto_19</th>\n",
       "      <th>CategoriaProducto_28</th>\n",
       "      <th>CategoriaProducto_OTRAS</th>\n",
       "      <th>Sexo_M</th>\n",
       "      <th>Sexo_F</th>\n",
       "    </tr>\n",
       "  </thead>\n",
       "  <tbody>\n",
       "    <tr>\n",
       "      <th>0</th>\n",
       "      <td>0.0000</td>\n",
       "      <td>2.0000</td>\n",
       "      <td>0.0000</td>\n",
       "      <td>0.0000</td>\n",
       "      <td>0.0000</td>\n",
       "      <td>68.0000</td>\n",
       "      <td>6784.5000</td>\n",
       "      <td>0.0000</td>\n",
       "      <td>9440.5600</td>\n",
       "      <td>0.0000</td>\n",
       "      <td>1.0000</td>\n",
       "      <td>3</td>\n",
       "      <td>70.0000</td>\n",
       "      <td>0</td>\n",
       "      <td>1</td>\n",
       "      <td>0</td>\n",
       "      <td>0</td>\n",
       "      <td>0</td>\n",
       "      <td>0</td>\n",
       "      <td>1</td>\n",
       "      <td>0</td>\n",
       "    </tr>\n",
       "    <tr>\n",
       "      <th>1</th>\n",
       "      <td>0.0000</td>\n",
       "      <td>1.0000</td>\n",
       "      <td>0.0000</td>\n",
       "      <td>0.0000</td>\n",
       "      <td>0.0000</td>\n",
       "      <td>67.0000</td>\n",
       "      <td>9231.1000</td>\n",
       "      <td>0.0000</td>\n",
       "      <td>5029.5900</td>\n",
       "      <td>0.0000</td>\n",
       "      <td>1.0000</td>\n",
       "      <td>5</td>\n",
       "      <td>68.0000</td>\n",
       "      <td>0</td>\n",
       "      <td>1</td>\n",
       "      <td>0</td>\n",
       "      <td>0</td>\n",
       "      <td>0</td>\n",
       "      <td>0</td>\n",
       "      <td>0</td>\n",
       "      <td>1</td>\n",
       "    </tr>\n",
       "    <tr>\n",
       "      <th>2</th>\n",
       "      <td>0.0000</td>\n",
       "      <td>1.0000</td>\n",
       "      <td>0.0000</td>\n",
       "      <td>0.0000</td>\n",
       "      <td>0.0000</td>\n",
       "      <td>68.0000</td>\n",
       "      <td>47496.6100</td>\n",
       "      <td>0.0000</td>\n",
       "      <td>50156.3200</td>\n",
       "      <td>0.0000</td>\n",
       "      <td>0.0000</td>\n",
       "      <td>3</td>\n",
       "      <td>67.0000</td>\n",
       "      <td>0</td>\n",
       "      <td>1</td>\n",
       "      <td>0</td>\n",
       "      <td>0</td>\n",
       "      <td>0</td>\n",
       "      <td>0</td>\n",
       "      <td>0</td>\n",
       "      <td>1</td>\n",
       "    </tr>\n",
       "    <tr>\n",
       "      <th>3</th>\n",
       "      <td>0.0000</td>\n",
       "      <td>6.0000</td>\n",
       "      <td>0.0000</td>\n",
       "      <td>3.0000</td>\n",
       "      <td>0.0000</td>\n",
       "      <td>68.0000</td>\n",
       "      <td>24806.5900</td>\n",
       "      <td>0.0000</td>\n",
       "      <td>26082.8500</td>\n",
       "      <td>0.0000</td>\n",
       "      <td>1.0000</td>\n",
       "      <td>3</td>\n",
       "      <td>67.0000</td>\n",
       "      <td>0</td>\n",
       "      <td>1</td>\n",
       "      <td>0</td>\n",
       "      <td>0</td>\n",
       "      <td>0</td>\n",
       "      <td>0</td>\n",
       "      <td>0</td>\n",
       "      <td>1</td>\n",
       "    </tr>\n",
       "    <tr>\n",
       "      <th>4</th>\n",
       "      <td>0.0000</td>\n",
       "      <td>6.0000</td>\n",
       "      <td>1.0000</td>\n",
       "      <td>2.0000</td>\n",
       "      <td>0.0000</td>\n",
       "      <td>67.0000</td>\n",
       "      <td>75824.7800</td>\n",
       "      <td>470.0400</td>\n",
       "      <td>103080.4000</td>\n",
       "      <td>470.0400</td>\n",
       "      <td>0.0000</td>\n",
       "      <td>3</td>\n",
       "      <td>67.0000</td>\n",
       "      <td>0</td>\n",
       "      <td>0</td>\n",
       "      <td>1</td>\n",
       "      <td>0</td>\n",
       "      <td>0</td>\n",
       "      <td>0</td>\n",
       "      <td>0</td>\n",
       "      <td>1</td>\n",
       "    </tr>\n",
       "    <tr>\n",
       "      <th>...</th>\n",
       "      <td>...</td>\n",
       "      <td>...</td>\n",
       "      <td>...</td>\n",
       "      <td>...</td>\n",
       "      <td>...</td>\n",
       "      <td>...</td>\n",
       "      <td>...</td>\n",
       "      <td>...</td>\n",
       "      <td>...</td>\n",
       "      <td>...</td>\n",
       "      <td>...</td>\n",
       "      <td>...</td>\n",
       "      <td>...</td>\n",
       "      <td>...</td>\n",
       "      <td>...</td>\n",
       "      <td>...</td>\n",
       "      <td>...</td>\n",
       "      <td>...</td>\n",
       "      <td>...</td>\n",
       "      <td>...</td>\n",
       "      <td>...</td>\n",
       "    </tr>\n",
       "    <tr>\n",
       "      <th>494804</th>\n",
       "      <td>2.0000</td>\n",
       "      <td>1.0000</td>\n",
       "      <td>0.0000</td>\n",
       "      <td>0.0000</td>\n",
       "      <td>0.0000</td>\n",
       "      <td>46.0000</td>\n",
       "      <td>0.0000</td>\n",
       "      <td>0.0000</td>\n",
       "      <td>0.0000</td>\n",
       "      <td>0.0000</td>\n",
       "      <td>0.0000</td>\n",
       "      <td>4</td>\n",
       "      <td>4.0000</td>\n",
       "      <td>0</td>\n",
       "      <td>0</td>\n",
       "      <td>0</td>\n",
       "      <td>0</td>\n",
       "      <td>0</td>\n",
       "      <td>1</td>\n",
       "      <td>0</td>\n",
       "      <td>1</td>\n",
       "    </tr>\n",
       "    <tr>\n",
       "      <th>494845</th>\n",
       "      <td>2.0000</td>\n",
       "      <td>1.0000</td>\n",
       "      <td>0.0000</td>\n",
       "      <td>0.0000</td>\n",
       "      <td>0.0000</td>\n",
       "      <td>60.0000</td>\n",
       "      <td>0.0000</td>\n",
       "      <td>0.0000</td>\n",
       "      <td>0.0000</td>\n",
       "      <td>0.0000</td>\n",
       "      <td>0.0000</td>\n",
       "      <td>2</td>\n",
       "      <td>4.0000</td>\n",
       "      <td>0</td>\n",
       "      <td>0</td>\n",
       "      <td>0</td>\n",
       "      <td>0</td>\n",
       "      <td>0</td>\n",
       "      <td>1</td>\n",
       "      <td>0</td>\n",
       "      <td>1</td>\n",
       "    </tr>\n",
       "    <tr>\n",
       "      <th>494872</th>\n",
       "      <td>2.0000</td>\n",
       "      <td>1.0000</td>\n",
       "      <td>0.0000</td>\n",
       "      <td>0.0000</td>\n",
       "      <td>0.0000</td>\n",
       "      <td>49.0000</td>\n",
       "      <td>0.0000</td>\n",
       "      <td>0.0000</td>\n",
       "      <td>0.0000</td>\n",
       "      <td>0.0000</td>\n",
       "      <td>0.0000</td>\n",
       "      <td>5</td>\n",
       "      <td>4.0000</td>\n",
       "      <td>0</td>\n",
       "      <td>0</td>\n",
       "      <td>0</td>\n",
       "      <td>0</td>\n",
       "      <td>0</td>\n",
       "      <td>1</td>\n",
       "      <td>0</td>\n",
       "      <td>1</td>\n",
       "    </tr>\n",
       "    <tr>\n",
       "      <th>494873</th>\n",
       "      <td>2.0000</td>\n",
       "      <td>1.0000</td>\n",
       "      <td>0.0000</td>\n",
       "      <td>0.0000</td>\n",
       "      <td>0.0000</td>\n",
       "      <td>37.0000</td>\n",
       "      <td>0.0000</td>\n",
       "      <td>0.0000</td>\n",
       "      <td>0.0000</td>\n",
       "      <td>0.0000</td>\n",
       "      <td>1.0000</td>\n",
       "      <td>4</td>\n",
       "      <td>140.0000</td>\n",
       "      <td>0</td>\n",
       "      <td>0</td>\n",
       "      <td>0</td>\n",
       "      <td>0</td>\n",
       "      <td>0</td>\n",
       "      <td>1</td>\n",
       "      <td>0</td>\n",
       "      <td>1</td>\n",
       "    </tr>\n",
       "    <tr>\n",
       "      <th>494881</th>\n",
       "      <td>2.0000</td>\n",
       "      <td>1.0000</td>\n",
       "      <td>0.0000</td>\n",
       "      <td>0.0000</td>\n",
       "      <td>0.0000</td>\n",
       "      <td>58.0000</td>\n",
       "      <td>0.0000</td>\n",
       "      <td>0.0000</td>\n",
       "      <td>0.0000</td>\n",
       "      <td>0.0000</td>\n",
       "      <td>0.0000</td>\n",
       "      <td>4</td>\n",
       "      <td>4.0000</td>\n",
       "      <td>0</td>\n",
       "      <td>0</td>\n",
       "      <td>0</td>\n",
       "      <td>0</td>\n",
       "      <td>0</td>\n",
       "      <td>1</td>\n",
       "      <td>0</td>\n",
       "      <td>1</td>\n",
       "    </tr>\n",
       "  </tbody>\n",
       "</table>\n",
       "<p>484112 rows × 21 columns</p>\n",
       "</div>"
      ],
      "text/plain": [
       "        periodo_cli  cant_productos  cant_PF  cant_TC  cant_PP    Edad  \\\n",
       "0            0.0000          2.0000   0.0000   0.0000   0.0000 68.0000   \n",
       "1            0.0000          1.0000   0.0000   0.0000   0.0000 67.0000   \n",
       "2            0.0000          1.0000   0.0000   0.0000   0.0000 68.0000   \n",
       "3            0.0000          6.0000   0.0000   3.0000   0.0000 68.0000   \n",
       "4            0.0000          6.0000   1.0000   2.0000   0.0000 67.0000   \n",
       "...             ...             ...      ...      ...      ...     ...   \n",
       "494804       2.0000          1.0000   0.0000   0.0000   0.0000 46.0000   \n",
       "494845       2.0000          1.0000   0.0000   0.0000   0.0000 60.0000   \n",
       "494872       2.0000          1.0000   0.0000   0.0000   0.0000 49.0000   \n",
       "494873       2.0000          1.0000   0.0000   0.0000   0.0000 37.0000   \n",
       "494881       2.0000          1.0000   0.0000   0.0000   0.0000 58.0000   \n",
       "\n",
       "        SaldoPromedioCAPesos  SaldoPromedioCADolares  \\\n",
       "0                  6784.5000                  0.0000   \n",
       "1                  9231.1000                  0.0000   \n",
       "2                 47496.6100                  0.0000   \n",
       "3                 24806.5900                  0.0000   \n",
       "4                 75824.7800                470.0400   \n",
       "...                      ...                     ...   \n",
       "494804                0.0000                  0.0000   \n",
       "494845                0.0000                  0.0000   \n",
       "494872                0.0000                  0.0000   \n",
       "494873                0.0000                  0.0000   \n",
       "494881                0.0000                  0.0000   \n",
       "\n",
       "        SaldoPromedioCAPesos_ant_2  SaldoPromedioCADolares_ant_2  score_deuda  \\\n",
       "0                        9440.5600                        0.0000       1.0000   \n",
       "1                        5029.5900                        0.0000       1.0000   \n",
       "2                       50156.3200                        0.0000       0.0000   \n",
       "3                       26082.8500                        0.0000       1.0000   \n",
       "4                      103080.4000                      470.0400       0.0000   \n",
       "...                            ...                           ...          ...   \n",
       "494804                      0.0000                        0.0000       0.0000   \n",
       "494845                      0.0000                        0.0000       0.0000   \n",
       "494872                      0.0000                        0.0000       0.0000   \n",
       "494873                      0.0000                        0.0000       1.0000   \n",
       "494881                      0.0000                        0.0000       0.0000   \n",
       "\n",
       "        antiguedad  DiasDesdeMov  CategoriaProducto_10  CategoriaProducto_12  \\\n",
       "0                3       70.0000                     0                     1   \n",
       "1                5       68.0000                     0                     1   \n",
       "2                3       67.0000                     0                     1   \n",
       "3                3       67.0000                     0                     1   \n",
       "4                3       67.0000                     0                     0   \n",
       "...            ...           ...                   ...                   ...   \n",
       "494804           4        4.0000                     0                     0   \n",
       "494845           2        4.0000                     0                     0   \n",
       "494872           5        4.0000                     0                     0   \n",
       "494873           4      140.0000                     0                     0   \n",
       "494881           4        4.0000                     0                     0   \n",
       "\n",
       "        CategoriaProducto_14  CategoriaProducto_19  CategoriaProducto_28  \\\n",
       "0                          0                     0                     0   \n",
       "1                          0                     0                     0   \n",
       "2                          0                     0                     0   \n",
       "3                          0                     0                     0   \n",
       "4                          1                     0                     0   \n",
       "...                      ...                   ...                   ...   \n",
       "494804                     0                     0                     0   \n",
       "494845                     0                     0                     0   \n",
       "494872                     0                     0                     0   \n",
       "494873                     0                     0                     0   \n",
       "494881                     0                     0                     0   \n",
       "\n",
       "        CategoriaProducto_OTRAS  Sexo_M  Sexo_F  \n",
       "0                             0       1       0  \n",
       "1                             0       0       1  \n",
       "2                             0       0       1  \n",
       "3                             0       0       1  \n",
       "4                             0       0       1  \n",
       "...                         ...     ...     ...  \n",
       "494804                        1       0       1  \n",
       "494845                        1       0       1  \n",
       "494872                        1       0       1  \n",
       "494873                        1       0       1  \n",
       "494881                        1       0       1  \n",
       "\n",
       "[484112 rows x 21 columns]"
      ]
     },
     "execution_count": 149,
     "metadata": {},
     "output_type": "execute_result"
    }
   ],
   "source": [
    "X = data\n",
    "X = X.drop(['target2'],axis=1)\n",
    "X"
   ]
  },
  {
   "cell_type": "code",
   "execution_count": 150,
   "metadata": {},
   "outputs": [
    {
     "data": {
      "text/plain": [
       "<matplotlib.axes._subplots.AxesSubplot at 0x7f04bca375d0>"
      ]
     },
     "execution_count": 150,
     "metadata": {},
     "output_type": "execute_result"
    },
    {
     "data": {
      "image/png": "[encoded data removed]",
      "text/plain": [
       "<Figure size 432x288 with 1 Axes>"
      ]
     },
     "metadata": {
      "needs_background": "light"
     },
     "output_type": "display_data"
    }
   ],
   "source": [
    "X['Edad'].plot.hist()"
   ]
  },
  {
   "cell_type": "code",
   "execution_count": 151,
   "metadata": {},
   "outputs": [],
   "source": [
    "from sklearn.preprocessing import StandardScaler"
   ]
  },
  {
   "cell_type": "code",
   "execution_count": 152,
   "metadata": {
    "scrolled": true
   },
   "outputs": [],
   "source": [
    "X_scaled = StandardScaler().fit_transform(X.values)"
   ]
  },
  {
   "cell_type": "code",
   "execution_count": 153,
   "metadata": {},
   "outputs": [
    {
     "data": {
      "text/plain": [
       "array([[-0.9613117 , -0.84530883, -0.28623624, ..., -0.208151  ,\n",
       "         1.14344211, -1.14344211],\n",
       "       [-0.9613117 , -1.44721438, -0.28623624, ..., -0.208151  ,\n",
       "        -0.87455236,  0.87455236],\n",
       "       [-0.9613117 , -1.44721438, -0.28623624, ..., -0.208151  ,\n",
       "        -0.87455236,  0.87455236],\n",
       "       ...,\n",
       "       [ 2.65256607, -1.44721438, -0.28623624, ...,  4.80420462,\n",
       "        -0.87455236,  0.87455236],\n",
       "       [ 2.65256607, -1.44721438, -0.28623624, ...,  4.80420462,\n",
       "        -0.87455236,  0.87455236],\n",
       "       [ 2.65256607, -1.44721438, -0.28623624, ...,  4.80420462,\n",
       "        -0.87455236,  0.87455236]])"
      ]
     },
     "execution_count": 153,
     "metadata": {},
     "output_type": "execute_result"
    }
   ],
   "source": [
    "X_scaled"
   ]
  },
  {
   "cell_type": "code",
   "execution_count": 154,
   "metadata": {},
   "outputs": [],
   "source": [
    "X_scaled_df = pd.DataFrame(X_scaled, index=data.index, columns=X.columns)"
   ]
  },
  {
   "cell_type": "code",
   "execution_count": 155,
   "metadata": {},
   "outputs": [
    {
     "data": {
      "text/html": [
       "<div>\n",
       "<style scoped>\n",
       "    .dataframe tbody tr th:only-of-type {\n",
       "        vertical-align: middle;\n",
       "    }\n",
       "\n",
       "    .dataframe tbody tr th {\n",
       "        vertical-align: top;\n",
       "    }\n",
       "\n",
       "    .dataframe thead th {\n",
       "        text-align: right;\n",
       "    }\n",
       "</style>\n",
       "<table border=\"1\" class=\"dataframe\">\n",
       "  <thead>\n",
       "    <tr style=\"text-align: right;\">\n",
       "      <th></th>\n",
       "      <th>periodo_cli</th>\n",
       "      <th>cant_productos</th>\n",
       "      <th>cant_PF</th>\n",
       "      <th>cant_TC</th>\n",
       "      <th>cant_PP</th>\n",
       "      <th>Edad</th>\n",
       "      <th>SaldoPromedioCAPesos</th>\n",
       "      <th>SaldoPromedioCADolares</th>\n",
       "      <th>SaldoPromedioCAPesos_ant_2</th>\n",
       "      <th>SaldoPromedioCADolares_ant_2</th>\n",
       "      <th>score_deuda</th>\n",
       "      <th>antiguedad</th>\n",
       "      <th>DiasDesdeMov</th>\n",
       "      <th>CategoriaProducto_10</th>\n",
       "      <th>CategoriaProducto_12</th>\n",
       "      <th>CategoriaProducto_14</th>\n",
       "      <th>CategoriaProducto_19</th>\n",
       "      <th>CategoriaProducto_28</th>\n",
       "      <th>CategoriaProducto_OTRAS</th>\n",
       "      <th>Sexo_M</th>\n",
       "      <th>Sexo_F</th>\n",
       "    </tr>\n",
       "  </thead>\n",
       "  <tbody>\n",
       "    <tr>\n",
       "      <th>0</th>\n",
       "      <td>-0.9613</td>\n",
       "      <td>-0.8453</td>\n",
       "      <td>-0.2862</td>\n",
       "      <td>-1.2748</td>\n",
       "      <td>-0.4632</td>\n",
       "      <td>1.1213</td>\n",
       "      <td>-0.5228</td>\n",
       "      <td>-0.2865</td>\n",
       "      <td>-0.4100</td>\n",
       "      <td>-0.2841</td>\n",
       "      <td>0.3398</td>\n",
       "      <td>-0.8119</td>\n",
       "      <td>-0.7840</td>\n",
       "      <td>-0.5167</td>\n",
       "      <td>2.1726</td>\n",
       "      <td>-1.0433</td>\n",
       "      <td>-0.1440</td>\n",
       "      <td>-0.1802</td>\n",
       "      <td>-0.2082</td>\n",
       "      <td>1.1434</td>\n",
       "      <td>-1.1434</td>\n",
       "    </tr>\n",
       "    <tr>\n",
       "      <th>1</th>\n",
       "      <td>-0.9613</td>\n",
       "      <td>-1.4472</td>\n",
       "      <td>-0.2862</td>\n",
       "      <td>-1.2748</td>\n",
       "      <td>-0.4632</td>\n",
       "      <td>1.0620</td>\n",
       "      <td>-0.4725</td>\n",
       "      <td>-0.2865</td>\n",
       "      <td>-0.5174</td>\n",
       "      <td>-0.2841</td>\n",
       "      <td>0.3398</td>\n",
       "      <td>-0.4413</td>\n",
       "      <td>-0.7992</td>\n",
       "      <td>-0.5167</td>\n",
       "      <td>2.1726</td>\n",
       "      <td>-1.0433</td>\n",
       "      <td>-0.1440</td>\n",
       "      <td>-0.1802</td>\n",
       "      <td>-0.2082</td>\n",
       "      <td>-0.8746</td>\n",
       "      <td>0.8746</td>\n",
       "    </tr>\n",
       "    <tr>\n",
       "      <th>2</th>\n",
       "      <td>-0.9613</td>\n",
       "      <td>-1.4472</td>\n",
       "      <td>-0.2862</td>\n",
       "      <td>-1.2748</td>\n",
       "      <td>-0.4632</td>\n",
       "      <td>1.1213</td>\n",
       "      <td>0.3145</td>\n",
       "      <td>-0.2865</td>\n",
       "      <td>0.5816</td>\n",
       "      <td>-0.2841</td>\n",
       "      <td>-2.9427</td>\n",
       "      <td>-0.8119</td>\n",
       "      <td>-0.8067</td>\n",
       "      <td>-0.5167</td>\n",
       "      <td>2.1726</td>\n",
       "      <td>-1.0433</td>\n",
       "      <td>-0.1440</td>\n",
       "      <td>-0.1802</td>\n",
       "      <td>-0.2082</td>\n",
       "      <td>-0.8746</td>\n",
       "      <td>0.8746</td>\n",
       "    </tr>\n",
       "    <tr>\n",
       "      <th>3</th>\n",
       "      <td>-0.9613</td>\n",
       "      <td>1.5623</td>\n",
       "      <td>-0.2862</td>\n",
       "      <td>1.6762</td>\n",
       "      <td>-0.4632</td>\n",
       "      <td>1.1213</td>\n",
       "      <td>-0.1522</td>\n",
       "      <td>-0.2865</td>\n",
       "      <td>-0.0047</td>\n",
       "      <td>-0.2841</td>\n",
       "      <td>0.3398</td>\n",
       "      <td>-0.8119</td>\n",
       "      <td>-0.8067</td>\n",
       "      <td>-0.5167</td>\n",
       "      <td>2.1726</td>\n",
       "      <td>-1.0433</td>\n",
       "      <td>-0.1440</td>\n",
       "      <td>-0.1802</td>\n",
       "      <td>-0.2082</td>\n",
       "      <td>-0.8746</td>\n",
       "      <td>0.8746</td>\n",
       "    </tr>\n",
       "    <tr>\n",
       "      <th>4</th>\n",
       "      <td>-0.9613</td>\n",
       "      <td>1.5623</td>\n",
       "      <td>2.2996</td>\n",
       "      <td>0.6925</td>\n",
       "      <td>-0.4632</td>\n",
       "      <td>1.0620</td>\n",
       "      <td>0.8970</td>\n",
       "      <td>0.1758</td>\n",
       "      <td>1.8705</td>\n",
       "      <td>0.1050</td>\n",
       "      <td>-2.9427</td>\n",
       "      <td>-0.8119</td>\n",
       "      <td>-0.8067</td>\n",
       "      <td>-0.5167</td>\n",
       "      <td>-0.4603</td>\n",
       "      <td>0.9585</td>\n",
       "      <td>-0.1440</td>\n",
       "      <td>-0.1802</td>\n",
       "      <td>-0.2082</td>\n",
       "      <td>-0.8746</td>\n",
       "      <td>0.8746</td>\n",
       "    </tr>\n",
       "  </tbody>\n",
       "</table>\n",
       "</div>"
      ],
      "text/plain": [
       "   periodo_cli  cant_productos  cant_PF  cant_TC  cant_PP   Edad  \\\n",
       "0      -0.9613         -0.8453  -0.2862  -1.2748  -0.4632 1.1213   \n",
       "1      -0.9613         -1.4472  -0.2862  -1.2748  -0.4632 1.0620   \n",
       "2      -0.9613         -1.4472  -0.2862  -1.2748  -0.4632 1.1213   \n",
       "3      -0.9613          1.5623  -0.2862   1.6762  -0.4632 1.1213   \n",
       "4      -0.9613          1.5623   2.2996   0.6925  -0.4632 1.0620   \n",
       "\n",
       "   SaldoPromedioCAPesos  SaldoPromedioCADolares  SaldoPromedioCAPesos_ant_2  \\\n",
       "0               -0.5228                 -0.2865                     -0.4100   \n",
       "1               -0.4725                 -0.2865                     -0.5174   \n",
       "2                0.3145                 -0.2865                      0.5816   \n",
       "3               -0.1522                 -0.2865                     -0.0047   \n",
       "4                0.8970                  0.1758                      1.8705   \n",
       "\n",
       "   SaldoPromedioCADolares_ant_2  score_deuda  antiguedad  DiasDesdeMov  \\\n",
       "0                       -0.2841       0.3398     -0.8119       -0.7840   \n",
       "1                       -0.2841       0.3398     -0.4413       -0.7992   \n",
       "2                       -0.2841      -2.9427     -0.8119       -0.8067   \n",
       "3                       -0.2841       0.3398     -0.8119       -0.8067   \n",
       "4                        0.1050      -2.9427     -0.8119       -0.8067   \n",
       "\n",
       "   CategoriaProducto_10  CategoriaProducto_12  CategoriaProducto_14  \\\n",
       "0               -0.5167                2.1726               -1.0433   \n",
       "1               -0.5167                2.1726               -1.0433   \n",
       "2               -0.5167                2.1726               -1.0433   \n",
       "3               -0.5167                2.1726               -1.0433   \n",
       "4               -0.5167               -0.4603                0.9585   \n",
       "\n",
       "   CategoriaProducto_19  CategoriaProducto_28  CategoriaProducto_OTRAS  \\\n",
       "0               -0.1440               -0.1802                  -0.2082   \n",
       "1               -0.1440               -0.1802                  -0.2082   \n",
       "2               -0.1440               -0.1802                  -0.2082   \n",
       "3               -0.1440               -0.1802                  -0.2082   \n",
       "4               -0.1440               -0.1802                  -0.2082   \n",
       "\n",
       "   Sexo_M  Sexo_F  \n",
       "0  1.1434 -1.1434  \n",
       "1 -0.8746  0.8746  \n",
       "2 -0.8746  0.8746  \n",
       "3 -0.8746  0.8746  \n",
       "4 -0.8746  0.8746  "
      ]
     },
     "execution_count": 155,
     "metadata": {},
     "output_type": "execute_result"
    }
   ],
   "source": [
    "X_scaled_df.head()"
   ]
  },
  {
   "cell_type": "code",
   "execution_count": 156,
   "metadata": {},
   "outputs": [
    {
     "data": {
      "text/plain": [
       "<matplotlib.axes._subplots.AxesSubplot at 0x7f04bca32e10>"
      ]
     },
     "execution_count": 156,
     "metadata": {},
     "output_type": "execute_result"
    },
    {
     "data": {
      "image/png": "[encoded data removed]",
      "text/plain": [
       "<Figure size 432x288 with 1 Axes>"
      ]
     },
     "metadata": {
      "needs_background": "light"
     },
     "output_type": "display_data"
    }
   ],
   "source": [
    "X_scaled_df['Edad'].plot.hist()"
   ]
  },
  {
   "cell_type": "markdown",
   "metadata": {},
   "source": [
    "## Dividimos dataset para entrenar el modelo"
   ]
  },
  {
   "cell_type": "code",
   "execution_count": 157,
   "metadata": {},
   "outputs": [],
   "source": [
    "from sklearn.model_selection import train_test_split"
   ]
  },
  {
   "cell_type": "code",
   "execution_count": 158,
   "metadata": {},
   "outputs": [],
   "source": [
    "X_train,X_test,y_train,y_test = train_test_split(X_scaled_df,y)"
   ]
  },
  {
   "cell_type": "code",
   "execution_count": 159,
   "metadata": {},
   "outputs": [
    {
     "data": {
      "text/html": [
       "<div>\n",
       "<style scoped>\n",
       "    .dataframe tbody tr th:only-of-type {\n",
       "        vertical-align: middle;\n",
       "    }\n",
       "\n",
       "    .dataframe tbody tr th {\n",
       "        vertical-align: top;\n",
       "    }\n",
       "\n",
       "    .dataframe thead th {\n",
       "        text-align: right;\n",
       "    }\n",
       "</style>\n",
       "<table border=\"1\" class=\"dataframe\">\n",
       "  <thead>\n",
       "    <tr style=\"text-align: right;\">\n",
       "      <th></th>\n",
       "      <th>periodo_cli</th>\n",
       "      <th>cant_productos</th>\n",
       "      <th>cant_PF</th>\n",
       "      <th>cant_TC</th>\n",
       "      <th>cant_PP</th>\n",
       "      <th>Edad</th>\n",
       "      <th>SaldoPromedioCAPesos</th>\n",
       "      <th>SaldoPromedioCADolares</th>\n",
       "      <th>SaldoPromedioCAPesos_ant_2</th>\n",
       "      <th>SaldoPromedioCADolares_ant_2</th>\n",
       "      <th>score_deuda</th>\n",
       "      <th>antiguedad</th>\n",
       "      <th>DiasDesdeMov</th>\n",
       "      <th>CategoriaProducto_10</th>\n",
       "      <th>CategoriaProducto_12</th>\n",
       "      <th>CategoriaProducto_14</th>\n",
       "      <th>CategoriaProducto_19</th>\n",
       "      <th>CategoriaProducto_28</th>\n",
       "      <th>CategoriaProducto_OTRAS</th>\n",
       "      <th>Sexo_M</th>\n",
       "      <th>Sexo_F</th>\n",
       "    </tr>\n",
       "  </thead>\n",
       "  <tbody>\n",
       "    <tr>\n",
       "      <th>273836</th>\n",
       "      <td>0.8456</td>\n",
       "      <td>0.3585</td>\n",
       "      <td>-0.2862</td>\n",
       "      <td>-1.2748</td>\n",
       "      <td>-0.4632</td>\n",
       "      <td>0.5883</td>\n",
       "      <td>3.8255</td>\n",
       "      <td>-0.2865</td>\n",
       "      <td>0.6687</td>\n",
       "      <td>2.9057</td>\n",
       "      <td>0.3398</td>\n",
       "      <td>2.1525</td>\n",
       "      <td>0.8827</td>\n",
       "      <td>1.9355</td>\n",
       "      <td>-0.4603</td>\n",
       "      <td>-1.0433</td>\n",
       "      <td>-0.1440</td>\n",
       "      <td>-0.1802</td>\n",
       "      <td>-0.2082</td>\n",
       "      <td>1.1434</td>\n",
       "      <td>-1.1434</td>\n",
       "    </tr>\n",
       "    <tr>\n",
       "      <th>172516</th>\n",
       "      <td>-0.9613</td>\n",
       "      <td>-0.8453</td>\n",
       "      <td>-0.2862</td>\n",
       "      <td>-0.2912</td>\n",
       "      <td>-0.4632</td>\n",
       "      <td>-1.0698</td>\n",
       "      <td>-0.6623</td>\n",
       "      <td>-0.2865</td>\n",
       "      <td>-0.6399</td>\n",
       "      <td>-0.2841</td>\n",
       "      <td>0.3398</td>\n",
       "      <td>-0.0708</td>\n",
       "      <td>0.0342</td>\n",
       "      <td>1.9355</td>\n",
       "      <td>-0.4603</td>\n",
       "      <td>-1.0433</td>\n",
       "      <td>-0.1440</td>\n",
       "      <td>-0.1802</td>\n",
       "      <td>-0.2082</td>\n",
       "      <td>-0.8746</td>\n",
       "      <td>0.8746</td>\n",
       "    </tr>\n",
       "    <tr>\n",
       "      <th>227080</th>\n",
       "      <td>-0.9613</td>\n",
       "      <td>-0.2434</td>\n",
       "      <td>-0.2862</td>\n",
       "      <td>-0.2912</td>\n",
       "      <td>-0.4632</td>\n",
       "      <td>1.8319</td>\n",
       "      <td>0.3129</td>\n",
       "      <td>0.5712</td>\n",
       "      <td>0.1640</td>\n",
       "      <td>0.2888</td>\n",
       "      <td>0.3398</td>\n",
       "      <td>-0.8119</td>\n",
       "      <td>-0.8067</td>\n",
       "      <td>-0.5167</td>\n",
       "      <td>2.1726</td>\n",
       "      <td>-1.0433</td>\n",
       "      <td>-0.1440</td>\n",
       "      <td>-0.1802</td>\n",
       "      <td>-0.2082</td>\n",
       "      <td>-0.8746</td>\n",
       "      <td>0.8746</td>\n",
       "    </tr>\n",
       "    <tr>\n",
       "      <th>124230</th>\n",
       "      <td>-0.9613</td>\n",
       "      <td>2.1642</td>\n",
       "      <td>-0.2862</td>\n",
       "      <td>0.6925</td>\n",
       "      <td>2.1587</td>\n",
       "      <td>-0.5960</td>\n",
       "      <td>-0.2308</td>\n",
       "      <td>-0.2865</td>\n",
       "      <td>-0.4257</td>\n",
       "      <td>-0.2839</td>\n",
       "      <td>0.3398</td>\n",
       "      <td>0.2998</td>\n",
       "      <td>-0.7916</td>\n",
       "      <td>-0.5167</td>\n",
       "      <td>-0.4603</td>\n",
       "      <td>0.9585</td>\n",
       "      <td>-0.1440</td>\n",
       "      <td>-0.1802</td>\n",
       "      <td>-0.2082</td>\n",
       "      <td>1.1434</td>\n",
       "      <td>-1.1434</td>\n",
       "    </tr>\n",
       "    <tr>\n",
       "      <th>125625</th>\n",
       "      <td>-0.9613</td>\n",
       "      <td>-1.4472</td>\n",
       "      <td>-0.2862</td>\n",
       "      <td>-1.2748</td>\n",
       "      <td>-0.4632</td>\n",
       "      <td>-0.5960</td>\n",
       "      <td>0.5364</td>\n",
       "      <td>-0.2865</td>\n",
       "      <td>-0.5512</td>\n",
       "      <td>-0.2841</td>\n",
       "      <td>0.3398</td>\n",
       "      <td>1.0409</td>\n",
       "      <td>-0.8067</td>\n",
       "      <td>-0.5167</td>\n",
       "      <td>-0.4603</td>\n",
       "      <td>0.9585</td>\n",
       "      <td>-0.1440</td>\n",
       "      <td>-0.1802</td>\n",
       "      <td>-0.2082</td>\n",
       "      <td>-0.8746</td>\n",
       "      <td>0.8746</td>\n",
       "    </tr>\n",
       "    <tr>\n",
       "      <th>...</th>\n",
       "      <td>...</td>\n",
       "      <td>...</td>\n",
       "      <td>...</td>\n",
       "      <td>...</td>\n",
       "      <td>...</td>\n",
       "      <td>...</td>\n",
       "      <td>...</td>\n",
       "      <td>...</td>\n",
       "      <td>...</td>\n",
       "      <td>...</td>\n",
       "      <td>...</td>\n",
       "      <td>...</td>\n",
       "      <td>...</td>\n",
       "      <td>...</td>\n",
       "      <td>...</td>\n",
       "      <td>...</td>\n",
       "      <td>...</td>\n",
       "      <td>...</td>\n",
       "      <td>...</td>\n",
       "      <td>...</td>\n",
       "      <td>...</td>\n",
       "    </tr>\n",
       "    <tr>\n",
       "      <th>212973</th>\n",
       "      <td>-0.9613</td>\n",
       "      <td>0.3585</td>\n",
       "      <td>-0.2862</td>\n",
       "      <td>-0.2912</td>\n",
       "      <td>2.1587</td>\n",
       "      <td>1.4173</td>\n",
       "      <td>0.7972</td>\n",
       "      <td>5.0965</td>\n",
       "      <td>0.8971</td>\n",
       "      <td>5.0562</td>\n",
       "      <td>0.3398</td>\n",
       "      <td>-0.6266</td>\n",
       "      <td>-0.8067</td>\n",
       "      <td>-0.5167</td>\n",
       "      <td>2.1726</td>\n",
       "      <td>-1.0433</td>\n",
       "      <td>-0.1440</td>\n",
       "      <td>-0.1802</td>\n",
       "      <td>-0.2082</td>\n",
       "      <td>1.1434</td>\n",
       "      <td>-1.1434</td>\n",
       "    </tr>\n",
       "    <tr>\n",
       "      <th>103104</th>\n",
       "      <td>-0.9613</td>\n",
       "      <td>-0.8453</td>\n",
       "      <td>-0.2862</td>\n",
       "      <td>-0.2912</td>\n",
       "      <td>-0.4632</td>\n",
       "      <td>-0.4184</td>\n",
       "      <td>-0.6623</td>\n",
       "      <td>-0.2865</td>\n",
       "      <td>-0.6399</td>\n",
       "      <td>-0.2841</td>\n",
       "      <td>0.3398</td>\n",
       "      <td>-0.6266</td>\n",
       "      <td>2.2918</td>\n",
       "      <td>1.9355</td>\n",
       "      <td>-0.4603</td>\n",
       "      <td>-1.0433</td>\n",
       "      <td>-0.1440</td>\n",
       "      <td>-0.1802</td>\n",
       "      <td>-0.2082</td>\n",
       "      <td>1.1434</td>\n",
       "      <td>-1.1434</td>\n",
       "    </tr>\n",
       "    <tr>\n",
       "      <th>473974</th>\n",
       "      <td>0.8456</td>\n",
       "      <td>-0.2434</td>\n",
       "      <td>-0.2862</td>\n",
       "      <td>-0.2912</td>\n",
       "      <td>-0.4632</td>\n",
       "      <td>0.9436</td>\n",
       "      <td>-0.5023</td>\n",
       "      <td>-0.2865</td>\n",
       "      <td>0.2989</td>\n",
       "      <td>-0.2841</td>\n",
       "      <td>0.3398</td>\n",
       "      <td>-0.0708</td>\n",
       "      <td>1.0039</td>\n",
       "      <td>1.9355</td>\n",
       "      <td>-0.4603</td>\n",
       "      <td>-1.0433</td>\n",
       "      <td>-0.1440</td>\n",
       "      <td>-0.1802</td>\n",
       "      <td>-0.2082</td>\n",
       "      <td>1.1434</td>\n",
       "      <td>-1.1434</td>\n",
       "    </tr>\n",
       "    <tr>\n",
       "      <th>227104</th>\n",
       "      <td>-0.9613</td>\n",
       "      <td>-1.4472</td>\n",
       "      <td>-0.2862</td>\n",
       "      <td>-1.2748</td>\n",
       "      <td>-0.4632</td>\n",
       "      <td>2.2464</td>\n",
       "      <td>0.8090</td>\n",
       "      <td>-0.2865</td>\n",
       "      <td>-0.2661</td>\n",
       "      <td>-0.2841</td>\n",
       "      <td>-2.9427</td>\n",
       "      <td>2.5231</td>\n",
       "      <td>-0.7916</td>\n",
       "      <td>-0.5167</td>\n",
       "      <td>2.1726</td>\n",
       "      <td>-1.0433</td>\n",
       "      <td>-0.1440</td>\n",
       "      <td>-0.1802</td>\n",
       "      <td>-0.2082</td>\n",
       "      <td>-0.8746</td>\n",
       "      <td>0.8746</td>\n",
       "    </tr>\n",
       "    <tr>\n",
       "      <th>223776</th>\n",
       "      <td>-0.9613</td>\n",
       "      <td>-1.4472</td>\n",
       "      <td>-0.2862</td>\n",
       "      <td>-1.2748</td>\n",
       "      <td>-0.4632</td>\n",
       "      <td>1.9503</td>\n",
       "      <td>-0.3487</td>\n",
       "      <td>-0.2865</td>\n",
       "      <td>-0.3827</td>\n",
       "      <td>-0.2841</td>\n",
       "      <td>-2.9427</td>\n",
       "      <td>1.4114</td>\n",
       "      <td>-0.7840</td>\n",
       "      <td>-0.5167</td>\n",
       "      <td>2.1726</td>\n",
       "      <td>-1.0433</td>\n",
       "      <td>-0.1440</td>\n",
       "      <td>-0.1802</td>\n",
       "      <td>-0.2082</td>\n",
       "      <td>-0.8746</td>\n",
       "      <td>0.8746</td>\n",
       "    </tr>\n",
       "  </tbody>\n",
       "</table>\n",
       "<p>363084 rows × 21 columns</p>\n",
       "</div>"
      ],
      "text/plain": [
       "        periodo_cli  cant_productos  cant_PF  cant_TC  cant_PP    Edad  \\\n",
       "273836       0.8456          0.3585  -0.2862  -1.2748  -0.4632  0.5883   \n",
       "172516      -0.9613         -0.8453  -0.2862  -0.2912  -0.4632 -1.0698   \n",
       "227080      -0.9613         -0.2434  -0.2862  -0.2912  -0.4632  1.8319   \n",
       "124230      -0.9613          2.1642  -0.2862   0.6925   2.1587 -0.5960   \n",
       "125625      -0.9613         -1.4472  -0.2862  -1.2748  -0.4632 -0.5960   \n",
       "...             ...             ...      ...      ...      ...     ...   \n",
       "212973      -0.9613          0.3585  -0.2862  -0.2912   2.1587  1.4173   \n",
       "103104      -0.9613         -0.8453  -0.2862  -0.2912  -0.4632 -0.4184   \n",
       "473974       0.8456         -0.2434  -0.2862  -0.2912  -0.4632  0.9436   \n",
       "227104      -0.9613         -1.4472  -0.2862  -1.2748  -0.4632  2.2464   \n",
       "223776      -0.9613         -1.4472  -0.2862  -1.2748  -0.4632  1.9503   \n",
       "\n",
       "        SaldoPromedioCAPesos  SaldoPromedioCADolares  \\\n",
       "273836                3.8255                 -0.2865   \n",
       "172516               -0.6623                 -0.2865   \n",
       "227080                0.3129                  0.5712   \n",
       "124230               -0.2308                 -0.2865   \n",
       "125625                0.5364                 -0.2865   \n",
       "...                      ...                     ...   \n",
       "212973                0.7972                  5.0965   \n",
       "103104               -0.6623                 -0.2865   \n",
       "473974               -0.5023                 -0.2865   \n",
       "227104                0.8090                 -0.2865   \n",
       "223776               -0.3487                 -0.2865   \n",
       "\n",
       "        SaldoPromedioCAPesos_ant_2  SaldoPromedioCADolares_ant_2  score_deuda  \\\n",
       "273836                      0.6687                        2.9057       0.3398   \n",
       "172516                     -0.6399                       -0.2841       0.3398   \n",
       "227080                      0.1640                        0.2888       0.3398   \n",
       "124230                     -0.4257                       -0.2839       0.3398   \n",
       "125625                     -0.5512                       -0.2841       0.3398   \n",
       "...                            ...                           ...          ...   \n",
       "212973                      0.8971                        5.0562       0.3398   \n",
       "103104                     -0.6399                       -0.2841       0.3398   \n",
       "473974                      0.2989                       -0.2841       0.3398   \n",
       "227104                     -0.2661                       -0.2841      -2.9427   \n",
       "223776                     -0.3827                       -0.2841      -2.9427   \n",
       "\n",
       "        antiguedad  DiasDesdeMov  CategoriaProducto_10  CategoriaProducto_12  \\\n",
       "273836      2.1525        0.8827                1.9355               -0.4603   \n",
       "172516     -0.0708        0.0342                1.9355               -0.4603   \n",
       "227080     -0.8119       -0.8067               -0.5167                2.1726   \n",
       "124230      0.2998       -0.7916               -0.5167               -0.4603   \n",
       "125625      1.0409       -0.8067               -0.5167               -0.4603   \n",
       "...            ...           ...                   ...                   ...   \n",
       "212973     -0.6266       -0.8067               -0.5167                2.1726   \n",
       "103104     -0.6266        2.2918                1.9355               -0.4603   \n",
       "473974     -0.0708        1.0039                1.9355               -0.4603   \n",
       "227104      2.5231       -0.7916               -0.5167                2.1726   \n",
       "223776      1.4114       -0.7840               -0.5167                2.1726   \n",
       "\n",
       "        CategoriaProducto_14  CategoriaProducto_19  CategoriaProducto_28  \\\n",
       "273836               -1.0433               -0.1440               -0.1802   \n",
       "172516               -1.0433               -0.1440               -0.1802   \n",
       "227080               -1.0433               -0.1440               -0.1802   \n",
       "124230                0.9585               -0.1440               -0.1802   \n",
       "125625                0.9585               -0.1440               -0.1802   \n",
       "...                      ...                   ...                   ...   \n",
       "212973               -1.0433               -0.1440               -0.1802   \n",
       "103104               -1.0433               -0.1440               -0.1802   \n",
       "473974               -1.0433               -0.1440               -0.1802   \n",
       "227104               -1.0433               -0.1440               -0.1802   \n",
       "223776               -1.0433               -0.1440               -0.1802   \n",
       "\n",
       "        CategoriaProducto_OTRAS  Sexo_M  Sexo_F  \n",
       "273836                  -0.2082  1.1434 -1.1434  \n",
       "172516                  -0.2082 -0.8746  0.8746  \n",
       "227080                  -0.2082 -0.8746  0.8746  \n",
       "124230                  -0.2082  1.1434 -1.1434  \n",
       "125625                  -0.2082 -0.8746  0.8746  \n",
       "...                         ...     ...     ...  \n",
       "212973                  -0.2082  1.1434 -1.1434  \n",
       "103104                  -0.2082  1.1434 -1.1434  \n",
       "473974                  -0.2082  1.1434 -1.1434  \n",
       "227104                  -0.2082 -0.8746  0.8746  \n",
       "223776                  -0.2082 -0.8746  0.8746  \n",
       "\n",
       "[363084 rows x 21 columns]"
      ]
     },
     "execution_count": 159,
     "metadata": {},
     "output_type": "execute_result"
    }
   ],
   "source": [
    "X_train"
   ]
  },
  {
   "cell_type": "markdown",
   "metadata": {},
   "source": [
    "## Corregimos el desbalance de clase en la columna target2"
   ]
  },
  {
   "cell_type": "code",
   "execution_count": 160,
   "metadata": {},
   "outputs": [],
   "source": [
    "from sklearn.utils import resample"
   ]
  },
  {
   "cell_type": "code",
   "execution_count": 161,
   "metadata": {},
   "outputs": [
    {
     "data": {
      "text/plain": [
       "0.0000   0.6431\n",
       "1.0000   0.3569\n",
       "Name: target2, dtype: float64"
      ]
     },
     "execution_count": 161,
     "metadata": {},
     "output_type": "execute_result"
    }
   ],
   "source": [
    "y_train.value_counts(normalize = True)"
   ]
  },
  {
   "cell_type": "code",
   "execution_count": 162,
   "metadata": {},
   "outputs": [],
   "source": [
    "\n",
    "df = pd.concat([pd.DataFrame(X_train), pd.DataFrame(y_train)], axis=1)"
   ]
  },
  {
   "cell_type": "code",
   "execution_count": 163,
   "metadata": {},
   "outputs": [
    {
     "data": {
      "text/plain": [
       "1.0000    233493\n",
       "0.0000    233493\n",
       "Name: target2, dtype: int64"
      ]
     },
     "execution_count": 163,
     "metadata": {},
     "output_type": "execute_result"
    }
   ],
   "source": [
    "negative = df[df['target2']==0]\n",
    "positive = df[df['target2']==1]# upsample minority\n",
    "pos_upsampled = resample(positive,\n",
    "     replace=True, # sample with replacement\n",
    "     n_samples=len(negative), # match number in majority class\n",
    "     random_state=27) # reproducible results# combine majority and upsampled minority\n",
    "upsampled = pd.concat([negative, pos_upsampled])# check new class counts\n",
    "upsampled['target2'].value_counts()"
   ]
  },
  {
   "cell_type": "code",
   "execution_count": 164,
   "metadata": {},
   "outputs": [],
   "source": [
    "from sklearn.utils import shuffle\n",
    "upsampled = shuffle(upsampled)"
   ]
  },
  {
   "cell_type": "code",
   "execution_count": 165,
   "metadata": {},
   "outputs": [],
   "source": [
    "X_train = upsampled \n",
    "X_train = X_train.drop(['target2'],axis=1)\n",
    "\n",
    "y_train = upsampled['target2']"
   ]
  },
  {
   "cell_type": "code",
   "execution_count": 166,
   "metadata": {},
   "outputs": [
    {
     "data": {
      "text/html": [
       "<div>\n",
       "<style scoped>\n",
       "    .dataframe tbody tr th:only-of-type {\n",
       "        vertical-align: middle;\n",
       "    }\n",
       "\n",
       "    .dataframe tbody tr th {\n",
       "        vertical-align: top;\n",
       "    }\n",
       "\n",
       "    .dataframe thead th {\n",
       "        text-align: right;\n",
       "    }\n",
       "</style>\n",
       "<table border=\"1\" class=\"dataframe\">\n",
       "  <thead>\n",
       "    <tr style=\"text-align: right;\">\n",
       "      <th></th>\n",
       "      <th>periodo_cli</th>\n",
       "      <th>cant_productos</th>\n",
       "      <th>cant_PF</th>\n",
       "      <th>cant_TC</th>\n",
       "      <th>cant_PP</th>\n",
       "      <th>Edad</th>\n",
       "      <th>SaldoPromedioCAPesos</th>\n",
       "      <th>SaldoPromedioCADolares</th>\n",
       "      <th>SaldoPromedioCAPesos_ant_2</th>\n",
       "      <th>SaldoPromedioCADolares_ant_2</th>\n",
       "      <th>score_deuda</th>\n",
       "      <th>antiguedad</th>\n",
       "      <th>DiasDesdeMov</th>\n",
       "      <th>CategoriaProducto_10</th>\n",
       "      <th>CategoriaProducto_12</th>\n",
       "      <th>CategoriaProducto_14</th>\n",
       "      <th>CategoriaProducto_19</th>\n",
       "      <th>CategoriaProducto_28</th>\n",
       "      <th>CategoriaProducto_OTRAS</th>\n",
       "      <th>Sexo_M</th>\n",
       "      <th>Sexo_F</th>\n",
       "    </tr>\n",
       "  </thead>\n",
       "  <tbody>\n",
       "    <tr>\n",
       "      <th>64236</th>\n",
       "      <td>-0.9613</td>\n",
       "      <td>0.3585</td>\n",
       "      <td>-0.2862</td>\n",
       "      <td>0.6925</td>\n",
       "      <td>-0.4632</td>\n",
       "      <td>0.1146</td>\n",
       "      <td>-0.4531</td>\n",
       "      <td>-0.2865</td>\n",
       "      <td>-0.5974</td>\n",
       "      <td>-0.2841</td>\n",
       "      <td>0.3398</td>\n",
       "      <td>0.2998</td>\n",
       "      <td>-0.8067</td>\n",
       "      <td>1.9355</td>\n",
       "      <td>-0.4603</td>\n",
       "      <td>-1.0433</td>\n",
       "      <td>-0.1440</td>\n",
       "      <td>-0.1802</td>\n",
       "      <td>-0.2082</td>\n",
       "      <td>1.1434</td>\n",
       "      <td>-1.1434</td>\n",
       "    </tr>\n",
       "    <tr>\n",
       "      <th>185314</th>\n",
       "      <td>-0.9613</td>\n",
       "      <td>-0.8453</td>\n",
       "      <td>-0.2862</td>\n",
       "      <td>-0.2912</td>\n",
       "      <td>-0.4632</td>\n",
       "      <td>-1.2474</td>\n",
       "      <td>-0.4854</td>\n",
       "      <td>-0.2865</td>\n",
       "      <td>-0.3530</td>\n",
       "      <td>-0.2841</td>\n",
       "      <td>-2.9427</td>\n",
       "      <td>-0.6266</td>\n",
       "      <td>-0.8067</td>\n",
       "      <td>1.9355</td>\n",
       "      <td>-0.4603</td>\n",
       "      <td>-1.0433</td>\n",
       "      <td>-0.1440</td>\n",
       "      <td>-0.1802</td>\n",
       "      <td>-0.2082</td>\n",
       "      <td>1.1434</td>\n",
       "      <td>-1.1434</td>\n",
       "    </tr>\n",
       "    <tr>\n",
       "      <th>52205</th>\n",
       "      <td>-0.9613</td>\n",
       "      <td>-0.2434</td>\n",
       "      <td>-0.2862</td>\n",
       "      <td>-0.2912</td>\n",
       "      <td>-0.4632</td>\n",
       "      <td>0.2330</td>\n",
       "      <td>-0.0271</td>\n",
       "      <td>0.1593</td>\n",
       "      <td>0.0925</td>\n",
       "      <td>-0.2841</td>\n",
       "      <td>0.3398</td>\n",
       "      <td>-0.0708</td>\n",
       "      <td>-0.8067</td>\n",
       "      <td>-0.5167</td>\n",
       "      <td>-0.4603</td>\n",
       "      <td>0.9585</td>\n",
       "      <td>-0.1440</td>\n",
       "      <td>-0.1802</td>\n",
       "      <td>-0.2082</td>\n",
       "      <td>1.1434</td>\n",
       "      <td>-1.1434</td>\n",
       "    </tr>\n",
       "    <tr>\n",
       "      <th>44608</th>\n",
       "      <td>-0.9613</td>\n",
       "      <td>2.7661</td>\n",
       "      <td>2.2996</td>\n",
       "      <td>2.6599</td>\n",
       "      <td>-0.4632</td>\n",
       "      <td>0.3514</td>\n",
       "      <td>1.5630</td>\n",
       "      <td>2.4971</td>\n",
       "      <td>2.3111</td>\n",
       "      <td>5.0562</td>\n",
       "      <td>0.3398</td>\n",
       "      <td>-0.8119</td>\n",
       "      <td>-0.7992</td>\n",
       "      <td>-0.5167</td>\n",
       "      <td>-0.4603</td>\n",
       "      <td>0.9585</td>\n",
       "      <td>-0.1440</td>\n",
       "      <td>-0.1802</td>\n",
       "      <td>-0.2082</td>\n",
       "      <td>1.1434</td>\n",
       "      <td>-1.1434</td>\n",
       "    </tr>\n",
       "    <tr>\n",
       "      <th>191267</th>\n",
       "      <td>-0.9613</td>\n",
       "      <td>-0.2434</td>\n",
       "      <td>-0.2862</td>\n",
       "      <td>-0.2912</td>\n",
       "      <td>2.1587</td>\n",
       "      <td>-1.3066</td>\n",
       "      <td>-0.3812</td>\n",
       "      <td>-0.2865</td>\n",
       "      <td>-0.2341</td>\n",
       "      <td>-0.2841</td>\n",
       "      <td>0.3398</td>\n",
       "      <td>-0.6266</td>\n",
       "      <td>-0.7916</td>\n",
       "      <td>-0.5167</td>\n",
       "      <td>-0.4603</td>\n",
       "      <td>0.9585</td>\n",
       "      <td>-0.1440</td>\n",
       "      <td>-0.1802</td>\n",
       "      <td>-0.2082</td>\n",
       "      <td>1.1434</td>\n",
       "      <td>-1.1434</td>\n",
       "    </tr>\n",
       "    <tr>\n",
       "      <th>...</th>\n",
       "      <td>...</td>\n",
       "      <td>...</td>\n",
       "      <td>...</td>\n",
       "      <td>...</td>\n",
       "      <td>...</td>\n",
       "      <td>...</td>\n",
       "      <td>...</td>\n",
       "      <td>...</td>\n",
       "      <td>...</td>\n",
       "      <td>...</td>\n",
       "      <td>...</td>\n",
       "      <td>...</td>\n",
       "      <td>...</td>\n",
       "      <td>...</td>\n",
       "      <td>...</td>\n",
       "      <td>...</td>\n",
       "      <td>...</td>\n",
       "      <td>...</td>\n",
       "      <td>...</td>\n",
       "      <td>...</td>\n",
       "      <td>...</td>\n",
       "    </tr>\n",
       "    <tr>\n",
       "      <th>167815</th>\n",
       "      <td>-0.9613</td>\n",
       "      <td>-0.2434</td>\n",
       "      <td>-0.2862</td>\n",
       "      <td>-0.2912</td>\n",
       "      <td>-0.4632</td>\n",
       "      <td>-1.0106</td>\n",
       "      <td>-0.2091</td>\n",
       "      <td>-0.0651</td>\n",
       "      <td>-0.2627</td>\n",
       "      <td>-0.0487</td>\n",
       "      <td>0.3398</td>\n",
       "      <td>-0.2560</td>\n",
       "      <td>-0.8067</td>\n",
       "      <td>-0.5167</td>\n",
       "      <td>-0.4603</td>\n",
       "      <td>0.9585</td>\n",
       "      <td>-0.1440</td>\n",
       "      <td>-0.1802</td>\n",
       "      <td>-0.2082</td>\n",
       "      <td>-0.8746</td>\n",
       "      <td>0.8746</td>\n",
       "    </tr>\n",
       "    <tr>\n",
       "      <th>374914</th>\n",
       "      <td>0.8456</td>\n",
       "      <td>-0.2434</td>\n",
       "      <td>-0.2862</td>\n",
       "      <td>-0.2912</td>\n",
       "      <td>-0.4632</td>\n",
       "      <td>-0.7145</td>\n",
       "      <td>0.1340</td>\n",
       "      <td>-0.2853</td>\n",
       "      <td>-0.3939</td>\n",
       "      <td>-0.2831</td>\n",
       "      <td>-2.9427</td>\n",
       "      <td>-0.6266</td>\n",
       "      <td>1.1100</td>\n",
       "      <td>-0.5167</td>\n",
       "      <td>-0.4603</td>\n",
       "      <td>0.9585</td>\n",
       "      <td>-0.1440</td>\n",
       "      <td>-0.1802</td>\n",
       "      <td>-0.2082</td>\n",
       "      <td>-0.8746</td>\n",
       "      <td>0.8746</td>\n",
       "    </tr>\n",
       "    <tr>\n",
       "      <th>474479</th>\n",
       "      <td>0.8456</td>\n",
       "      <td>-0.8453</td>\n",
       "      <td>-0.2862</td>\n",
       "      <td>-0.2912</td>\n",
       "      <td>-0.4632</td>\n",
       "      <td>1.4766</td>\n",
       "      <td>-0.5102</td>\n",
       "      <td>-0.2865</td>\n",
       "      <td>0.3111</td>\n",
       "      <td>-0.2841</td>\n",
       "      <td>0.3398</td>\n",
       "      <td>1.0409</td>\n",
       "      <td>1.1251</td>\n",
       "      <td>-0.5167</td>\n",
       "      <td>2.1726</td>\n",
       "      <td>-1.0433</td>\n",
       "      <td>-0.1440</td>\n",
       "      <td>-0.1802</td>\n",
       "      <td>-0.2082</td>\n",
       "      <td>-0.8746</td>\n",
       "      <td>0.8746</td>\n",
       "    </tr>\n",
       "    <tr>\n",
       "      <th>55960</th>\n",
       "      <td>-0.9613</td>\n",
       "      <td>-1.4472</td>\n",
       "      <td>-0.2862</td>\n",
       "      <td>-1.2748</td>\n",
       "      <td>-0.4632</td>\n",
       "      <td>0.2330</td>\n",
       "      <td>0.3231</td>\n",
       "      <td>-0.2865</td>\n",
       "      <td>0.8164</td>\n",
       "      <td>-0.2841</td>\n",
       "      <td>0.3398</td>\n",
       "      <td>-0.8119</td>\n",
       "      <td>-0.7916</td>\n",
       "      <td>-0.5167</td>\n",
       "      <td>-0.4603</td>\n",
       "      <td>0.9585</td>\n",
       "      <td>-0.1440</td>\n",
       "      <td>-0.1802</td>\n",
       "      <td>-0.2082</td>\n",
       "      <td>-0.8746</td>\n",
       "      <td>0.8746</td>\n",
       "    </tr>\n",
       "    <tr>\n",
       "      <th>488466</th>\n",
       "      <td>2.6526</td>\n",
       "      <td>-0.2434</td>\n",
       "      <td>-0.2862</td>\n",
       "      <td>-0.2912</td>\n",
       "      <td>2.1587</td>\n",
       "      <td>-0.4184</td>\n",
       "      <td>-0.5357</td>\n",
       "      <td>-0.2865</td>\n",
       "      <td>-0.4334</td>\n",
       "      <td>-0.2841</td>\n",
       "      <td>0.3398</td>\n",
       "      <td>2.1525</td>\n",
       "      <td>-0.3067</td>\n",
       "      <td>-0.5167</td>\n",
       "      <td>-0.4603</td>\n",
       "      <td>0.9585</td>\n",
       "      <td>-0.1440</td>\n",
       "      <td>-0.1802</td>\n",
       "      <td>-0.2082</td>\n",
       "      <td>-0.8746</td>\n",
       "      <td>0.8746</td>\n",
       "    </tr>\n",
       "  </tbody>\n",
       "</table>\n",
       "<p>466986 rows × 21 columns</p>\n",
       "</div>"
      ],
      "text/plain": [
       "        periodo_cli  cant_productos  cant_PF  cant_TC  cant_PP    Edad  \\\n",
       "64236       -0.9613          0.3585  -0.2862   0.6925  -0.4632  0.1146   \n",
       "185314      -0.9613         -0.8453  -0.2862  -0.2912  -0.4632 -1.2474   \n",
       "52205       -0.9613         -0.2434  -0.2862  -0.2912  -0.4632  0.2330   \n",
       "44608       -0.9613          2.7661   2.2996   2.6599  -0.4632  0.3514   \n",
       "191267      -0.9613         -0.2434  -0.2862  -0.2912   2.1587 -1.3066   \n",
       "...             ...             ...      ...      ...      ...     ...   \n",
       "167815      -0.9613         -0.2434  -0.2862  -0.2912  -0.4632 -1.0106   \n",
       "374914       0.8456         -0.2434  -0.2862  -0.2912  -0.4632 -0.7145   \n",
       "474479       0.8456         -0.8453  -0.2862  -0.2912  -0.4632  1.4766   \n",
       "55960       -0.9613         -1.4472  -0.2862  -1.2748  -0.4632  0.2330   \n",
       "488466       2.6526         -0.2434  -0.2862  -0.2912   2.1587 -0.4184   \n",
       "\n",
       "        SaldoPromedioCAPesos  SaldoPromedioCADolares  \\\n",
       "64236                -0.4531                 -0.2865   \n",
       "185314               -0.4854                 -0.2865   \n",
       "52205                -0.0271                  0.1593   \n",
       "44608                 1.5630                  2.4971   \n",
       "191267               -0.3812                 -0.2865   \n",
       "...                      ...                     ...   \n",
       "167815               -0.2091                 -0.0651   \n",
       "374914                0.1340                 -0.2853   \n",
       "474479               -0.5102                 -0.2865   \n",
       "55960                 0.3231                 -0.2865   \n",
       "488466               -0.5357                 -0.2865   \n",
       "\n",
       "        SaldoPromedioCAPesos_ant_2  SaldoPromedioCADolares_ant_2  score_deuda  \\\n",
       "64236                      -0.5974                       -0.2841       0.3398   \n",
       "185314                     -0.3530                       -0.2841      -2.9427   \n",
       "52205                       0.0925                       -0.2841       0.3398   \n",
       "44608                       2.3111                        5.0562       0.3398   \n",
       "191267                     -0.2341                       -0.2841       0.3398   \n",
       "...                            ...                           ...          ...   \n",
       "167815                     -0.2627                       -0.0487       0.3398   \n",
       "374914                     -0.3939                       -0.2831      -2.9427   \n",
       "474479                      0.3111                       -0.2841       0.3398   \n",
       "55960                       0.8164                       -0.2841       0.3398   \n",
       "488466                     -0.4334                       -0.2841       0.3398   \n",
       "\n",
       "        antiguedad  DiasDesdeMov  CategoriaProducto_10  CategoriaProducto_12  \\\n",
       "64236       0.2998       -0.8067                1.9355               -0.4603   \n",
       "185314     -0.6266       -0.8067                1.9355               -0.4603   \n",
       "52205      -0.0708       -0.8067               -0.5167               -0.4603   \n",
       "44608      -0.8119       -0.7992               -0.5167               -0.4603   \n",
       "191267     -0.6266       -0.7916               -0.5167               -0.4603   \n",
       "...            ...           ...                   ...                   ...   \n",
       "167815     -0.2560       -0.8067               -0.5167               -0.4603   \n",
       "374914     -0.6266        1.1100               -0.5167               -0.4603   \n",
       "474479      1.0409        1.1251               -0.5167                2.1726   \n",
       "55960      -0.8119       -0.7916               -0.5167               -0.4603   \n",
       "488466      2.1525       -0.3067               -0.5167               -0.4603   \n",
       "\n",
       "        CategoriaProducto_14  CategoriaProducto_19  CategoriaProducto_28  \\\n",
       "64236                -1.0433               -0.1440               -0.1802   \n",
       "185314               -1.0433               -0.1440               -0.1802   \n",
       "52205                 0.9585               -0.1440               -0.1802   \n",
       "44608                 0.9585               -0.1440               -0.1802   \n",
       "191267                0.9585               -0.1440               -0.1802   \n",
       "...                      ...                   ...                   ...   \n",
       "167815                0.9585               -0.1440               -0.1802   \n",
       "374914                0.9585               -0.1440               -0.1802   \n",
       "474479               -1.0433               -0.1440               -0.1802   \n",
       "55960                 0.9585               -0.1440               -0.1802   \n",
       "488466                0.9585               -0.1440               -0.1802   \n",
       "\n",
       "        CategoriaProducto_OTRAS  Sexo_M  Sexo_F  \n",
       "64236                   -0.2082  1.1434 -1.1434  \n",
       "185314                  -0.2082  1.1434 -1.1434  \n",
       "52205                   -0.2082  1.1434 -1.1434  \n",
       "44608                   -0.2082  1.1434 -1.1434  \n",
       "191267                  -0.2082  1.1434 -1.1434  \n",
       "...                         ...     ...     ...  \n",
       "167815                  -0.2082 -0.8746  0.8746  \n",
       "374914                  -0.2082 -0.8746  0.8746  \n",
       "474479                  -0.2082 -0.8746  0.8746  \n",
       "55960                   -0.2082 -0.8746  0.8746  \n",
       "488466                  -0.2082 -0.8746  0.8746  \n",
       "\n",
       "[466986 rows x 21 columns]"
      ]
     },
     "execution_count": 166,
     "metadata": {},
     "output_type": "execute_result"
    }
   ],
   "source": [
    "X_train "
   ]
  },
  {
   "cell_type": "code",
   "execution_count": 167,
   "metadata": {},
   "outputs": [
    {
     "data": {
      "text/plain": [
       "64236    0.0000\n",
       "185314   0.0000\n",
       "52205    1.0000\n",
       "44608    0.0000\n",
       "191267   0.0000\n",
       "          ...  \n",
       "167815   0.0000\n",
       "374914   1.0000\n",
       "474479   1.0000\n",
       "55960    0.0000\n",
       "488466   1.0000\n",
       "Name: target2, Length: 466986, dtype: float64"
      ]
     },
     "execution_count": 167,
     "metadata": {},
     "output_type": "execute_result"
    }
   ],
   "source": [
    "y_train"
   ]
  },
  {
   "cell_type": "markdown",
   "metadata": {},
   "source": [
    "# Resgression logistica "
   ]
  },
  {
   "cell_type": "code",
   "execution_count": 168,
   "metadata": {},
   "outputs": [],
   "source": [
    "from sklearn.linear_model import LogisticRegression"
   ]
  },
  {
   "cell_type": "code",
   "execution_count": 169,
   "metadata": {},
   "outputs": [],
   "source": [
    "logreg = LogisticRegression(penalty='l2',solver='lbfgs',C=0.1,max_iter=10000)"
   ]
  },
  {
   "cell_type": "code",
   "execution_count": 170,
   "metadata": {
    "scrolled": false
   },
   "outputs": [
    {
     "data": {
      "text/plain": [
       "LogisticRegression(C=0.1, max_iter=10000)"
      ]
     },
     "execution_count": 170,
     "metadata": {},
     "output_type": "execute_result"
    }
   ],
   "source": [
    "logreg.fit(X_train,y_train)"
   ]
  },
  {
   "cell_type": "code",
   "execution_count": 171,
   "metadata": {},
   "outputs": [
    {
     "data": {
      "text/plain": [
       "0.5930863023730905"
      ]
     },
     "execution_count": 171,
     "metadata": {},
     "output_type": "execute_result"
    }
   ],
   "source": [
    "logreg.score(X_train, y_train)"
   ]
  },
  {
   "cell_type": "code",
   "execution_count": 172,
   "metadata": {},
   "outputs": [],
   "source": [
    "y_pred_train = logreg.predict(X_train)"
   ]
  },
  {
   "cell_type": "code",
   "execution_count": 173,
   "metadata": {},
   "outputs": [],
   "source": [
    "y_preds_test = logreg.predict_proba(X_test)"
   ]
  },
  {
   "cell_type": "code",
   "execution_count": 174,
   "metadata": {},
   "outputs": [
    {
     "name": "stdout",
     "output_type": "stream",
     "text": [
      "Accuracy en train:  0.5930863023730905\n"
     ]
    }
   ],
   "source": [
    "print('Accuracy en train: ',  logreg.score(X_train, y_train))"
   ]
  },
  {
   "cell_type": "code",
   "execution_count": 175,
   "metadata": {},
   "outputs": [
    {
     "name": "stdout",
     "output_type": "stream",
     "text": [
      "Accuracy en test:  0.5957547013914135\n"
     ]
    }
   ],
   "source": [
    "print('Accuracy en test: ',  logreg.score(X_test, y_test))"
   ]
  },
  {
   "cell_type": "code",
   "execution_count": 176,
   "metadata": {},
   "outputs": [
    {
     "data": {
      "text/plain": [
       "array([1., 0., 1., ..., 1., 0., 0.])"
      ]
     },
     "execution_count": 176,
     "metadata": {},
     "output_type": "execute_result"
    }
   ],
   "source": [
    "y_preds = logreg.predict(X_test)\n",
    "\n",
    "y_preds\n"
   ]
  },
  {
   "cell_type": "code",
   "execution_count": 177,
   "metadata": {},
   "outputs": [
    {
     "name": "stdout",
     "output_type": "stream",
     "text": [
      "[[46920 31070]\n",
      " [17855 25183]]\n"
     ]
    }
   ],
   "source": [
    "\n",
    "from sklearn.metrics import confusion_matrix\n",
    "confusion_matrix = confusion_matrix(y_test, y_preds)\n",
    "print(confusion_matrix)"
   ]
  },
  {
   "cell_type": "code",
   "execution_count": 178,
   "metadata": {},
   "outputs": [
    {
     "name": "stdout",
     "output_type": "stream",
     "text": [
      "              precision    recall  f1-score   support\n",
      "\n",
      "         0.0       0.72      0.60      0.66     77990\n",
      "         1.0       0.45      0.59      0.51     43038\n",
      "\n",
      "    accuracy                           0.60    121028\n",
      "   macro avg       0.59      0.59      0.58    121028\n",
      "weighted avg       0.63      0.60      0.60    121028\n",
      "\n"
     ]
    }
   ],
   "source": [
    "from sklearn.metrics import classification_report\n",
    "print(classification_report(y_test, y_preds))"
   ]
  },
  {
   "cell_type": "code",
   "execution_count": 179,
   "metadata": {},
   "outputs": [],
   "source": [
    "\n",
    "## Construimos curva roc para evaluar desempeño del modelo \n",
    "\n",
    "import sklearn.metrics as metrics"
   ]
  },
  {
   "cell_type": "code",
   "execution_count": 180,
   "metadata": {},
   "outputs": [],
   "source": [
    "preds = y_preds_test[:,1]\n",
    "fpr, tpr, threshold = metrics.roc_curve(y_test, preds)\n",
    "roc_auc = metrics.auc(fpr, tpr)"
   ]
  },
  {
   "cell_type": "code",
   "execution_count": 181,
   "metadata": {},
   "outputs": [
    {
     "data": {
      "image/png": "[encoded data removed]",
      "text/plain": [
       "<Figure size 432x288 with 1 Axes>"
      ]
     },
     "metadata": {
      "needs_background": "light"
     },
     "output_type": "display_data"
    }
   ],
   "source": [
    "import matplotlib.pyplot as plt\n",
    "plt.title('Receiver Operating Characteristic')\n",
    "plt.plot(fpr, tpr, 'b', label = 'AUC = %0.2f' % roc_auc)\n",
    "plt.legend(loc = 'lower right')\n",
    "plt.plot([0, 1], [0, 1],'r--')\n",
    "plt.xlim([0, 1])\n",
    "plt.ylim([0, 1])\n",
    "plt.ylabel('True Positive Rate')\n",
    "plt.xlabel('False Positive Rate')\n",
    "plt.show()"
   ]
  },
  {
   "cell_type": "markdown",
   "metadata": {},
   "source": [
    "# Regression logistica con RFE (Recursive Feature Elimination)"
   ]
  },
  {
   "cell_type": "code",
   "execution_count": 182,
   "metadata": {},
   "outputs": [],
   "source": [
    "from sklearn.feature_selection import RFE\n",
    "\n",
    "#  (RFE) is a feature selection method that fits a model and \n",
    "# removes the weakest features"
   ]
  },
  {
   "cell_type": "code",
   "execution_count": 183,
   "metadata": {},
   "outputs": [],
   "source": [
    "logreg = LogisticRegression(penalty='l2',solver='lbfgs',C=0.1,max_iter=10000)"
   ]
  },
  {
   "cell_type": "code",
   "execution_count": 184,
   "metadata": {},
   "outputs": [
    {
     "name": "stderr",
     "output_type": "stream",
     "text": [
      "/home/juanfi/anaconda3/lib/python3.7/site-packages/sklearn/utils/validation.py:70: FutureWarning: Pass n_features_to_select=25 as keyword args. From version 0.25 passing these as positional arguments will result in an error\n",
      "  FutureWarning)\n"
     ]
    },
    {
     "name": "stdout",
     "output_type": "stream",
     "text": [
      "[ True  True  True  True  True  True  True  True  True  True  True  True\n",
      "  True  True  True  True  True  True  True  True  True]\n",
      "[1 1 1 1 1 1 1 1 1 1 1 1 1 1 1 1 1 1 1 1 1]\n"
     ]
    }
   ],
   "source": [
    "rfe = RFE(logreg, 25)\n",
    "rfe = rfe.fit(X_train, y_train.values.ravel())\n",
    "print(rfe.support_)\n",
    "print(rfe.ranking_)"
   ]
  },
  {
   "cell_type": "code",
   "execution_count": 185,
   "metadata": {},
   "outputs": [
    {
     "data": {
      "text/plain": [
       "RFE(estimator=LogisticRegression(C=0.1, max_iter=10000),\n",
       "    n_features_to_select=25)"
      ]
     },
     "execution_count": 185,
     "metadata": {},
     "output_type": "execute_result"
    }
   ],
   "source": [
    "rfe"
   ]
  },
  {
   "cell_type": "code",
   "execution_count": 186,
   "metadata": {},
   "outputs": [
    {
     "data": {
      "text/plain": [
       "array([1., 0., 1., ..., 1., 0., 0.])"
      ]
     },
     "execution_count": 186,
     "metadata": {},
     "output_type": "execute_result"
    }
   ],
   "source": [
    "y_preds1 = rfe.predict(X_test)\n",
    "\n",
    "y_preds1\n"
   ]
  },
  {
   "cell_type": "code",
   "execution_count": 187,
   "metadata": {},
   "outputs": [
    {
     "name": "stdout",
     "output_type": "stream",
     "text": [
      "Accuracy en train:  0.5930863023730905\n"
     ]
    }
   ],
   "source": [
    "print('Accuracy en train: ',  rfe.score(X_train, y_train))"
   ]
  },
  {
   "cell_type": "code",
   "execution_count": 188,
   "metadata": {},
   "outputs": [
    {
     "name": "stdout",
     "output_type": "stream",
     "text": [
      "Accuracy en test:  0.5957547013914135\n"
     ]
    }
   ],
   "source": [
    "print('Accuracy en test: ',  rfe.score(X_test, y_test))"
   ]
  },
  {
   "cell_type": "code",
   "execution_count": 189,
   "metadata": {},
   "outputs": [
    {
     "name": "stdout",
     "output_type": "stream",
     "text": [
      "[[46920 31070]\n",
      " [17855 25183]]\n"
     ]
    }
   ],
   "source": [
    "\n",
    "from sklearn.metrics import confusion_matrix\n",
    "confusion_matrix = confusion_matrix(y_test, y_preds1)\n",
    "print(confusion_matrix)"
   ]
  },
  {
   "cell_type": "code",
   "execution_count": 190,
   "metadata": {},
   "outputs": [
    {
     "name": "stdout",
     "output_type": "stream",
     "text": [
      "              precision    recall  f1-score   support\n",
      "\n",
      "         0.0       0.72      0.60      0.66     77990\n",
      "         1.0       0.45      0.59      0.51     43038\n",
      "\n",
      "    accuracy                           0.60    121028\n",
      "   macro avg       0.59      0.59      0.58    121028\n",
      "weighted avg       0.63      0.60      0.60    121028\n",
      "\n"
     ]
    }
   ],
   "source": [
    "from sklearn.metrics import classification_report\n",
    "print(classification_report(y_test, y_preds1))"
   ]
  }
 ],
 "metadata": {
  "colab": {
   "name": "Limpieza_TP2 (1).ipynb",
   "provenance": []
  },
  "kernelspec": {
   "display_name": "Python 3",
   "language": "python",
   "name": "python3"
  },
  "language_info": {
   "codemirror_mode": {
    "name": "ipython",
    "version": 3
   },
   "file_extension": ".py",
   "mimetype": "text/x-python",
   "name": "python",
   "nbconvert_exporter": "python",
   "pygments_lexer": "ipython3",
   "version": "3.7.6"
  },
  "widgets": {
   "application/vnd.jupyter.widget-state+json": {
    "state": {},
    "version_major": 2,
    "version_minor": 0
   }
  }
 },
 "nbformat": 4,
 "nbformat_minor": 1
}
